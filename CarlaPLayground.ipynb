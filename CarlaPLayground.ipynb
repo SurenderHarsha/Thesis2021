{
 "cells": [
  {
   "cell_type": "code",
   "execution_count": null,
   "metadata": {},
   "outputs": [],
   "source": [
    "import sys\n",
    "sys.path/home/surender/Downloads/carlaOld/PythonAPI/carla/dist/carla-0.9.9-py3.7-linux-x86_64.egg"
   ]
  },
  {
   "cell_type": "code",
   "execution_count": null,
   "metadata": {},
   "outputs": [],
   "source": [
    "import carla\n"
   ]
  },
  {
   "cell_type": "code",
   "execution_count": null,
   "metadata": {},
   "outputs": [],
   "source": [
    "!export OPENDD_DIR=~/Downloads/openDD\n",
    "!export NGSIM_DIR=~/Downloads/NGSIM\n",
    "\n"
   ]
  },
  {
   "cell_type": "code",
   "execution_count": null,
   "metadata": {},
   "outputs": [],
   "source": [
    "client =  carla.Client(\"localhost\",2000)"
   ]
  },
  {
   "cell_type": "code",
   "execution_count": null,
   "metadata": {},
   "outputs": [],
   "source": [
    "import os\n",
    "os.environ[\"NGSIM_DIR\"] = \"/home/surender/Downloads/NGSIM\"\n",
    "os.environ[\"OPENDD_DIR\"] = \"/home/surender/Downloads/openDD\"\n",
    "\n",
    "import sys\n",
    "#sys.path.append('/home/surender/Downloads/CARLA_0.9.9.4/PythonAPI/carla/dist')\n",
    "import carla\n",
    "import random\n",
    "import argparse\n",
    "\n",
    "from carla_real_traffic_scenarios.carla_maps import CarlaMaps\n",
    "from carla_real_traffic_scenarios.ngsim import NGSimDatasets, DatasetMode\n",
    "from carla_real_traffic_scenarios.ngsim.scenario import NGSimLaneChangeScenario\n",
    "from carla_real_traffic_scenarios.opendd.scenario import OpenDDScenario\n",
    "from carla_real_traffic_scenarios.reward import RewardType\n",
    "from carla_real_traffic_scenarios.scenario import Scenario\n",
    "\n",
    "\n",
    "from tensorflow.python.keras.applications.inception_resnet_v2 import InceptionResNetV2, preprocess_input"
   ]
  },
  {
   "cell_type": "code",
   "execution_count": null,
   "metadata": {},
   "outputs": [],
   "source": [
    "NGSimDatasets.list()"
   ]
  },
  {
   "cell_type": "code",
   "execution_count": null,
   "metadata": {},
   "outputs": [],
   "source": [
    "def parser_args():\n",
    "    parser = argparse.ArgumentParser()\n",
    "    parser.add_argument(\"--dataset\", choices=[\"ngsim\", \"opendd\"], default=\"opendd\")\n",
    "    parser.add_argument(\"--host\", default=\"127.0.0.1\")\n",
    "    parser.add_argument(\"--port\", default=2000, type=int)\n",
    "    parser.add_argument(\"--num-episodes\", default=10, type=int)\n",
    "    args = parser.parse_args()\n",
    "    return args\n",
    "\n",
    "\n",
    "def prepare_ngsim_scenario(client: carla.Client) -> Scenario:\n",
    "    data_dir = os.environ.get(\"NGSIM_DIR\")\n",
    "    #data_dir = os.listdir('/home/surender/Downloads/NGSIM')\n",
    "    assert data_dir, \"Path to the directory with NGSIM dataset is required\"\n",
    "    ngsim_map = NGSimDatasets.list()\n",
    "    ngsim_dataset = random.choice(ngsim_map)\n",
    "    client.load_world(ngsim_dataset.carla_map.level_path)\n",
    "    return NGSimLaneChangeScenario(\n",
    "        ngsim_dataset,\n",
    "        dataset_mode=DatasetMode.TRAIN,\n",
    "        data_dir=data_dir,\n",
    "        reward_type=RewardType.DENSE,\n",
    "        client=client,\n",
    "    )\n",
    "\n",
    "\n",
    "def prepare_opendd_scenario(client: carla.Client) -> Scenario:\n",
    "    data_dir = os.environ.get(\"OPENDD_DIR\")\n",
    "    assert data_dir, \"Path to the directory with openDD dataset is required\"\n",
    "    maps = [\"rdb1\", \"rdb2\", \"rdb3\", \"rdb4\", \"rdb5\", \"rdb6\", \"rdb7\"]\n",
    "    map_name = random.choice(maps)\n",
    "    carla_map = getattr(CarlaMaps, map_name.upper())\n",
    "    client.load_world(carla_map.level_path)\n",
    "    return OpenDDScenario(\n",
    "        client,\n",
    "        dataset_dir=data_dir,\n",
    "        dataset_mode=DatasetMode.TRAIN,\n",
    "        reward_type=RewardType.DENSE,\n",
    "        place_name=map_name,\n",
    "    )\n",
    "\n",
    "\n",
    "def prepare_ego_vehicle(world: carla.World) -> carla.Actor:\n",
    "    car_blueprint = world.get_blueprint_library().find(\"vehicle.audi.a2\")\n",
    "\n",
    "    # This will allow external scripts like manual_control.py or no_rendering_mode.py\n",
    "    # from the official CARLA examples to take control over the ego agent\n",
    "    car_blueprint.set_attribute(\"role_name\", \"hero\")\n",
    "\n",
    "    # spawn points doesnt matter - scenario sets up position in reset\n",
    "    ego_vehicle = world.spawn_actor(\n",
    "        car_blueprint, carla.Transform(carla.Location(0, 0, 500), carla.Rotation())\n",
    "    )\n",
    "\n",
    "    assert ego_vehicle is not None, \"Ego vehicle could not be spawned\"\n",
    "\n",
    "    # Setup any car sensors you like, collect observations and then use them as input to your model\n",
    "    return ego_vehicle"
   ]
  },
  {
   "cell_type": "code",
   "execution_count": null,
   "metadata": {},
   "outputs": [],
   "source": [
    "if __name__ == \"__main__\":\n",
    "    #args = parser_args()\n",
    "    dataset = \"ngsim\"\n",
    "    num_episodes = 5\n",
    "    host = \"localhost\"\n",
    "    port = 2000\n",
    "    print(f\"Trying to connect to CARLA server via {host}:{port}\", end=\"...\")\n",
    "    client = carla.Client(host, port)\n",
    "    client.set_timeout(60)\n",
    "\n",
    "    if dataset == \"ngsim\":\n",
    "        scenario = prepare_ngsim_scenario(client)\n",
    "    elif dataset == \"opendd\":\n",
    "        scenario = prepare_opendd_scenario(client)\n",
    "    \n",
    "    world = client.get_world()\n",
    "    spectator = world.get_spectator()\n",
    "    ego_vehicle = prepare_ego_vehicle(world)\n",
    "    scenario.reset(ego_vehicle)\n",
    "\n",
    "    # OpenAI Gym interface:\n",
    "    for ep_idx in range(num_episodes):\n",
    "        print(f\"Running episode {ep_idx+1}/{num_episodes}\")\n",
    "\n",
    "        # Ego vehicle replaces one of the real-world vehicles\n",
    "        scenario.reset(ego_vehicle)\n",
    "        done = False\n",
    "        total_reward = 0\n",
    "        while not done:\n",
    "            \n",
    "            # Read sensors, use policy to generate action and apply it to control ego agent\n",
    "            # ego_vehicle.apply_control(carla.VehicleControl(throttle=1.0, steer=-1.0))\n",
    "\n",
    "            chauffeur_cmd, reward, done, info = scenario.step(ego_vehicle)\n",
    "            total_reward += reward\n",
    "            print(f\"Step: command={chauffeur_cmd.name}, total_reward={total_reward}\")\n",
    "            world.tick()\n",
    "            print(len(world.get_actors()))\n",
    "            # Server camera follows ego\n",
    "            topdown_view = carla.Transform(\n",
    "                ego_vehicle.get_transform().location + carla.Vector3D(x=0, y=0, z=30),\n",
    "                carla.Rotation(pitch=-90),\n",
    "            )\n",
    "            spectator.set_transform(topdown_view)\n",
    "\n",
    "    scenario.close()"
   ]
  },
  {
   "cell_type": "code",
   "execution_count": null,
   "metadata": {},
   "outputs": [],
   "source": [
    "host = \"localhost\"\n",
    "port = 2000\n",
    "client = carla.Client(host,port)"
   ]
  },
  {
   "cell_type": "code",
   "execution_count": null,
   "metadata": {
    "scrolled": true
   },
   "outputs": [],
   "source": [
    "scenario = prepare_ngsim_scenario(client)"
   ]
  },
  {
   "cell_type": "code",
   "execution_count": null,
   "metadata": {},
   "outputs": [],
   "source": [
    "from carla_birdeye_view import BirdViewProducer, BirdViewCropType, PixelDimensions\n",
    "\n",
    "birdview_producer = BirdViewProducer(\n",
    "    client,  # carla.Client\n",
    "    target_size=PixelDimensions(width=150, height=336),\n",
    "    pixels_per_meter=4,\n",
    "    crop_type=BirdViewCropType.FRONT_AND_REAR_AREA\n",
    ")"
   ]
  },
  {
   "cell_type": "code",
   "execution_count": null,
   "metadata": {},
   "outputs": [],
   "source": [
    "from PIL import Image"
   ]
  },
  {
   "cell_type": "code",
   "execution_count": null,
   "metadata": {},
   "outputs": [],
   "source": [
    "world = client.get_world()\n",
    "spectator = world.get_spectator()\n",
    "ego_vehicle = prepare_ego_vehicle(world)\n",
    "scenario.reset(ego_vehicle)\n",
    "world.tick()"
   ]
  },
  {
   "cell_type": "code",
   "execution_count": null,
   "metadata": {},
   "outputs": [],
   "source": [
    "birdview = birdview_producer.produce(\n",
    "    agent_vehicle=ego_vehicle  # carla.Actor (spawned vehicle)\n",
    ")"
   ]
  },
  {
   "cell_type": "code",
   "execution_count": null,
   "metadata": {},
   "outputs": [],
   "source": [
    "cv2.fr"
   ]
  },
  {
   "cell_type": "code",
   "execution_count": null,
   "metadata": {},
   "outputs": [],
   "source": [
    "from IPython.display import clear_output, Image, display, HTML"
   ]
  },
  {
   "cell_type": "code",
   "execution_count": null,
   "metadata": {},
   "outputs": [],
   "source": [
    "def arrayShow(imageArray):\n",
    "    ret, png = cv2.imencode('.jpg', imageArray)\n",
    "    encoded = base64.b64encode(png)\n",
    "    return Image(data=encoded.decode('ascii'))"
   ]
  },
  {
   "cell_type": "code",
   "execution_count": null,
   "metadata": {},
   "outputs": [],
   "source": []
  },
  {
   "cell_type": "code",
   "execution_count": null,
   "metadata": {},
   "outputs": [],
   "source": [
    "world.tick()"
   ]
  },
  {
   "cell_type": "code",
   "execution_count": null,
   "metadata": {},
   "outputs": [],
   "source": [
    "rgb = BirdViewProducer.as_rgb(birdview)\n",
    "img = Image.fromarray(rgb, 'RGB')\n",
    "img.save('my.png')\n",
    "img.show()"
   ]
  },
  {
   "cell_type": "code",
   "execution_count": null,
   "metadata": {},
   "outputs": [],
   "source": [
    "import cv2"
   ]
  },
  {
   "cell_type": "code",
   "execution_count": null,
   "metadata": {},
   "outputs": [],
   "source": [
    "out = cv2.VideoWriter('project1.avi',cv2.VideoWriter_fourcc(*'DIVX'), 15, (150,336))"
   ]
  },
  {
   "cell_type": "code",
   "execution_count": null,
   "metadata": {},
   "outputs": [],
   "source": [
    "for i in range(100):\n",
    "    birdview = birdview_producer.produce(\n",
    "    agent_vehicle=ego_vehicle  # carla.Actor (spawned vehicle)\n",
    "    )\n",
    "    rgb = BirdViewProducer.as_rgb(birdview)\n",
    "    world.tick()\n",
    "    out.write(rgb)\n",
    "out.release()"
   ]
  },
  {
   "cell_type": "code",
   "execution_count": null,
   "metadata": {},
   "outputs": [],
   "source": [
    "done = False\n",
    "def gen():\n",
    "    global reward\n",
    "    i = 0\n",
    "    while not done:\n",
    "        i += 1\n",
    "        yield i\n",
    "        "
   ]
  },
  {
   "cell_type": "code",
   "execution_count": null,
   "metadata": {},
   "outputs": [],
   "source": [
    "\n",
    "\n",
    "#highgui.cvNamedWindow('mahMovie')\n",
    "\n",
    "for i in range(10):\n",
    "    birdview = birdview_producer.produce(\n",
    "    agent_vehicle=ego_vehicle  # carla.Actor (spawned vehicle)\n",
    "    )\n",
    "    rgb = BirdViewProducer.as_rgb(birdview)\n",
    "    \n",
    "    cv2.imshow('mahMovie', rgb)\n",
    "    world.tick()"
   ]
  },
  {
   "cell_type": "code",
   "execution_count": null,
   "metadata": {},
   "outputs": [],
   "source": [
    "import matplotlib.pyplot as plt\n"
   ]
  },
  {
   "cell_type": "code",
   "execution_count": null,
   "metadata": {},
   "outputs": [],
   "source": [
    "%matplotlib tk\n",
    "\n",
    "import cv2\n",
    "import matplotlib.pyplot as plt\n",
    "\n",
    "\n",
    "\n",
    "\n",
    "\n",
    "\n",
    "\n",
    "for i in range(100):\n",
    "    #fig.clear()\n",
    "    birdview = birdview_producer.produce(\n",
    "    agent_vehicle=ego_vehicle  # carla.Actor (spawned vehicle)\n",
    "    )\n",
    "    rgb = BirdViewProducer.as_rgb(birdview)\n",
    "    cv2.imshow('Frame',rgb)\n",
    "    if cv2.waitKey(25) & 0xFF == ord('q'):\n",
    "\n",
    "          break\n",
    "\n",
    "    #plt.draw()\n",
    "    world.tick()\n",
    "cv2.destroyAllWindows()\n"
   ]
  },
  {
   "cell_type": "code",
   "execution_count": null,
   "metadata": {},
   "outputs": [],
   "source": [
    "cv2.destroyAllWindows()\n"
   ]
  },
  {
   "cell_type": "code",
   "execution_count": null,
   "metadata": {},
   "outputs": [],
   "source": [
    "q%matplotlib tk\n",
    "import matplotlib.animation as animation\n",
    "import matplotlib.pyplot as plt\n",
    "import numpy as np\n",
    "import threading\n",
    "import time\n",
    "\n",
    "num_ep = 10\n",
    "ep = 0\n",
    "fig = plt.figure()\n",
    "\n",
    "def run_animations():\n",
    "    global done\n",
    "    done=False\n",
    "    anim = animation.FuncAnimation(fig, updatefig, gen,repeat = False)\n",
    "    \n",
    "def wait_for_done():\n",
    "    global done\n",
    "    while not done:\n",
    "        continue\n",
    "p = threading.Thread(target=run_animations)\n",
    "q = threading.Thread(target=wait_for_done)\n",
    "def updatefig(i):\n",
    "    global done\n",
    "    fig.clear()\n",
    "    birdview = birdview_producer.produce(\n",
    "    agent_vehicle=ego_vehicle  # carla.Actor (spawned vehicle)\n",
    "    )\n",
    "    rgb = BirdViewProducer.as_rgb(birdview)\n",
    "    #print(rgb.shape)\n",
    "    #img = Image.fromarray(rgb, 'RGB')\n",
    "    \n",
    "    p = plt.imshow(rgb)\n",
    "    \n",
    "    plt.draw()\n",
    "    \n",
    "    if i>50:\n",
    "        print(\"DONE\")\n",
    "        done = True\n",
    "        ep+=1\n",
    "        scenario.reset(ego_vehicle)\n",
    "        plt.close()\n",
    "    world.tick()\n",
    "\n",
    "\n",
    "for i in range(5):\n",
    "    p.start()\n",
    "    q.start()\n",
    "    print(\"NOW WAIT\")\n",
    "    p.join()\n",
    "    q.join()\n",
    "    \n",
    "\n",
    "\n",
    "#anim.save(\"/tmp/test.mp4\", fps=1)"
   ]
  },
  {
   "cell_type": "code",
   "execution_count": null,
   "metadata": {},
   "outputs": [],
   "source": [
    "fig = plt.figure()\n",
    "\n",
    "for i in range(50):\n",
    "    fig.clear()\n",
    "    birdview = birdview_producer.produce(\n",
    "    agent_vehicle=ego_vehicle  # carla.Actor (spawned vehicle)\n",
    "    )\n",
    "    rgb = BirdViewProducer.as_rgb(birdview)\n",
    "    p = plt.imshow(rgb)\n",
    "    plt.draw()\n",
    "    world.tick()"
   ]
  },
  {
   "cell_type": "code",
   "execution_count": null,
   "metadata": {},
   "outputs": [],
   "source": [
    "scenario.action_space"
   ]
  },
  {
   "cell_type": "code",
   "execution_count": null,
   "metadata": {},
   "outputs": [],
   "source": [
    "cam_bp = world.get_blueprint_library().find('sensor.camera.rgb')\n",
    "cam_bp.set_attribute(\"image_size_x\",str(320))\n",
    "cam_bp.set_attribute(\"image_size_y\",str(320))\n",
    "cam_bp.set_attribute(\"fov\",str(150))\n",
    "cam_location = carla.Location(-2,0,1)\n",
    "cam_rotation = carla.Rotation(0,180,0)\n",
    "cam_transform = carla.Transform(cam_location,cam_rotation)\n",
    "ego_cam = world.spawn_actor(cam_bp,cam_transform,attach_to=ego_vehicle, attachment_type=carla.AttachmentType.Rigid)\n",
    "ego_cam.listen(lambda image: image.save_to_disk(\"hi.jpg\"))"
   ]
  },
  {
   "cell_type": "code",
   "execution_count": null,
   "metadata": {},
   "outputs": [],
   "source": [
    "geo_bp = world.get_blueprint_library().find('sensor.other.gnss')\n",
    "geo_loc = carla.Location(0,0,0)\n",
    "geo_rot = carla.Rotation(0,0,0)\n",
    "geo_transform = carla.Transform(geo_loc,geo_rot)\n",
    "ego_gnss = world.spawn_actor(geo_bp,geo_transform, attach_to=ego_vehicle, attachment_type=carla.AttachmentType.Rigid)\n",
    "ego_gnss.listen(lambda dat: print(dat))"
   ]
  },
  {
   "cell_type": "code",
   "execution_count": null,
   "metadata": {},
   "outputs": [],
   "source": [
    "def itr(dat):\n",
    "    print(\"HERE\")\n",
    "    len(dat)"
   ]
  },
  {
   "cell_type": "code",
   "execution_count": null,
   "metadata": {},
   "outputs": [],
   "source": [
    "rdr_bp = world.get_blueprint_library().find('sensor.other.radar')\n",
    "rdr_loc = carla.Location(0,0,0)\n",
    "rdr_rot = carla.Rotation(0,0,0)\n",
    "rdr_transform = carla.Transform(rdr_loc,rdr_rot)\n",
    "ego_rdr = world.spawn_actor(rdr_bp,rdr_transform, attach_to=ego_vehicle, attachment_type=carla.AttachmentType.Rigid)\n",
    "ego_rdr.listen(lambda dat: print(len(dat)))"
   ]
  },
  {
   "cell_type": "code",
   "execution_count": null,
   "metadata": {},
   "outputs": [],
   "source": [
    "def print_all_lidar(dat):\n",
    "    print(len(dat))\n",
    "    for i in dat:\n",
    "        print(i)"
   ]
  },
  {
   "cell_type": "code",
   "execution_count": null,
   "metadata": {},
   "outputs": [],
   "source": [
    "ldr_bp = world.get_blueprint_library().find('sensor.other.radar')\n",
    "ldr_loc = carla.Location(0,0,0)\n",
    "ldr_rot = carla.Rotation(0,0,0)\n",
    "ldr_bp.set_attribute(\"range\",'3.0')\n",
    "\n",
    "\n",
    "ldr_transform = carla.Transform(ldr_loc,ldr_rot)\n",
    "ego_ldr = world.spawn_actor(ldr_bp,ldr_transform, attach_to=ego_vehicle, attachment_type=carla.AttachmentType.Rigid)\n",
    "ego_ldr.listen(lambda dat: print_all_lidar(dat))"
   ]
  },
  {
   "cell_type": "code",
   "execution_count": null,
   "metadata": {},
   "outputs": [],
   "source": [
    "rdr_bp = world.get_blueprint_library().find('sensor.other.radar')\n",
    "rdr_loc = carla.Location(0,0,0)\n",
    "rdr_rot = carla.Rotation(0,180,0)\n",
    "rdr_transform = carla.Transform(rdr_loc,rdr_rot)\n",
    "ego_rdr = world.spawn_actor(rdr_bp,rdr_transform, attach_to=ego_vehicle, attachment_type=carla.AttachmentType.Rigid)\n",
    "ego_rdr.listen(lambda dat: print(\"HI\"))"
   ]
  },
  {
   "cell_type": "code",
   "execution_count": null,
   "metadata": {},
   "outputs": [],
   "source": [
    "world.tick()"
   ]
  },
  {
   "cell_type": "code",
   "execution_count": null,
   "metadata": {},
   "outputs": [],
   "source": [
    "ego_vehicle"
   ]
  },
  {
   "cell_type": "code",
   "execution_count": null,
   "metadata": {},
   "outputs": [],
   "source": [
    "for i in range(len(world.get_blueprint_library())):\n",
    "    print(world.get_blueprint_library()[i])"
   ]
  },
  {
   "cell_type": "code",
   "execution_count": null,
   "metadata": {},
   "outputs": [],
   "source": [
    "len(world.get_actors())"
   ]
  },
  {
   "cell_type": "code",
   "execution_count": null,
   "metadata": {},
   "outputs": [],
   "source": [
    "ego_cam"
   ]
  },
  {
   "cell_type": "code",
   "execution_count": null,
   "metadata": {},
   "outputs": [],
   "source": [
    "!export NGSIM_DIR=/home/surender/Downloads/NGSIM"
   ]
  },
  {
   "cell_type": "code",
   "execution_count": null,
   "metadata": {},
   "outputs": [],
   "source": [
    "!echo $NGSIM_DIR "
   ]
  },
  {
   "cell_type": "code",
   "execution_count": null,
   "metadata": {},
   "outputs": [],
   "source": [
    "os.environ.get(\"$NSGIM_DIR\")"
   ]
  },
  {
   "cell_type": "code",
   "execution_count": null,
   "metadata": {},
   "outputs": [],
   "source": [
    "!export HI=/home/surender"
   ]
  },
  {
   "cell_type": "code",
   "execution_count": null,
   "metadata": {},
   "outputs": [],
   "source": [
    "os.environ.get(\"/home/sure\")"
   ]
  },
  {
   "cell_type": "code",
   "execution_count": null,
   "metadata": {},
   "outputs": [],
   "source": [
    "os.listdir('/home/surender/Downloads/NGSIM')"
   ]
  },
  {
   "cell_type": "code",
   "execution_count": null,
   "metadata": {},
   "outputs": [],
   "source": [
    "!echo $OPENDD_DIR"
   ]
  },
  {
   "cell_type": "code",
   "execution_count": null,
   "metadata": {},
   "outputs": [],
   "source": [
    "import numpy as np"
   ]
  },
  {
   "cell_type": "code",
   "execution_count": null,
   "metadata": {},
   "outputs": [],
   "source": [
    "np.clip(0.3,0,1)"
   ]
  },
  {
   "cell_type": "code",
   "execution_count": null,
   "metadata": {},
   "outputs": [],
   "source": [
    "set_var = []"
   ]
  },
  {
   "cell_type": "code",
   "execution_count": null,
   "metadata": {},
   "outputs": [],
   "source": [
    "from keras.layers import Input\n",
    "from keras.models import Model"
   ]
  },
  {
   "cell_type": "code",
   "execution_count": null,
   "metadata": {},
   "outputs": [],
   "source": []
  },
  {
   "cell_type": "code",
   "execution_count": null,
   "metadata": {},
   "outputs": [],
   "source": [
    "base_model = InceptionResNetV2(weights='imagenet', include_top=True)\n",
    "model = Model(inputs=base_model.input,outputs=base_model.get_layer('avg_pool').output)"
   ]
  },
  {
   "cell_type": "code",
   "execution_count": null,
   "metadata": {
    "scrolled": true
   },
   "outputs": [],
   "source": [
    "print(model.summary())"
   ]
  },
  {
   "cell_type": "code",
   "execution_count": null,
   "metadata": {},
   "outputs": [],
   "source": [
    "final_features  = 0\n",
    "final_features1 = 0"
   ]
  },
  {
   "cell_type": "code",
   "execution_count": null,
   "metadata": {},
   "outputs": [],
   "source": [
    "import numpy as np\n",
    "from PIL import Image\n",
    "def get_features(img):\n",
    "    global final_features\n",
    "    array = np.frombuffer(img.raw_data, dtype=np.dtype(\"uint8\")) \n",
    "    array = np.reshape(array, (img.height, img.width, 4)) # RGBA format\n",
    "    array = array[:, :, :3] #  Take only RGB\n",
    "    \n",
    "    \n",
    "    img = Image.fromarray(array)\n",
    "    img = img.resize((299, 299), Image.ANTIALIAS)\n",
    "    input_data = np.array(img)\n",
    "    #print(\"GOOD\")\n",
    "    x = np.expand_dims(input_data, axis=0)\n",
    "    x = preprocess_input(x)\n",
    "    #print(\"FINE\")\n",
    "    features = model.predict(x) \n",
    "    #print(\"WHY\")\n",
    "    features = features[0]\n",
    "    #print(\"WORKS?\")\n",
    "    final_features = features\n",
    "    \n",
    "def get_features1(img):\n",
    "    global final_features1\n",
    "    array = np.frombuffer(img.raw_data, dtype=np.dtype(\"uint8\")) \n",
    "    array = np.reshape(array, (img.height, img.width, 4)) # RGBA format\n",
    "    array = array[:, :, :3] #  Take only RGB\n",
    "    img = Image.fromarray(array)\n",
    "    img = img.resize((299, 299), Image.ANTIALIAS)\n",
    "    input_data = np.array(img)\n",
    "    #print(\"NO\")\n",
    "    x = np.expand_dims(input_data, axis=0)\n",
    "    x = preprocess_input(x)\n",
    "    #print(\"MAYBE\")\n",
    "    features = model.predict(x) \n",
    "    #print(\"WHI NOS\")\n",
    "    features = features[0]\n",
    "    \n",
    "    final_features1 = features"
   ]
  },
  {
   "cell_type": "code",
   "execution_count": null,
   "metadata": {},
   "outputs": [],
   "source": []
  },
  {
   "cell_type": "code",
   "execution_count": null,
   "metadata": {},
   "outputs": [],
   "source": [
    "cam_bp = world.get_blueprint_library().find('sensor.camera.rgb')\n",
    "cam_bp.set_attribute(\"image_size_x\",str(320))\n",
    "cam_bp.set_attribute(\"image_size_y\",str(320))\n",
    "cam_bp.set_attribute(\"fov\",str(100))\n",
    "cam_location = carla.Location(2,0,1)\n",
    "cam_rotation = carla.Rotation(0,0,0)\n",
    "cam_transform = carla.Transform(cam_location,cam_rotation)\n",
    "ego_cam = world.spawn_actor(cam_bp,cam_transform,attach_to=ego_vehicle, attachment_type=carla.AttachmentType.Rigid)\n",
    "ego_cam.listen(lambda image: get_features(image))"
   ]
  },
  {
   "cell_type": "code",
   "execution_count": null,
   "metadata": {},
   "outputs": [],
   "source": [
    "cam_bp1 = world.get_blueprint_library().find('sensor.camera.rgb')\n",
    "cam_bp1.set_attribute(\"image_size_x\",str(320))\n",
    "cam_bp1.set_attribute(\"image_size_y\",str(320))\n",
    "cam_bp1.set_attribute(\"fov\",str(100))\n",
    "cam_location1 = carla.Location(-2,0,1)\n",
    "cam_rotation1 = carla.Rotation(0,180,0)\n",
    "cam_transform1 = carla.Transform(cam_location1,cam_rotation1)\n",
    "ego_cam1 = world.spawn_actor(cam_bp1,cam_transform1,attach_to=ego_vehicle, attachment_type=carla.AttachmentType.Rigid)\n",
    "ego_cam1.listen(lambda image1: get_features1(image1))"
   ]
  },
  {
   "cell_type": "code",
   "execution_count": null,
   "metadata": {},
   "outputs": [],
   "source": [
    "world.tick()"
   ]
  },
  {
   "cell_type": "code",
   "execution_count": null,
   "metadata": {},
   "outputs": [],
   "source": [
    "final_features.shape"
   ]
  },
  {
   "cell_type": "code",
   "execution_count": null,
   "metadata": {},
   "outputs": [],
   "source": [
    "final_features1.shape"
   ]
  },
  {
   "cell_type": "code",
   "execution_count": null,
   "metadata": {},
   "outputs": [],
   "source": [
    "(final_features + final_features1).shape"
   ]
  },
  {
   "cell_type": "code",
   "execution_count": 1,
   "metadata": {},
   "outputs": [
    {
     "ename": "NameError",
     "evalue": "name 'np' is not defined",
     "output_type": "error",
     "traceback": [
      "\u001b[0;31m---------------------------------------------------------------------------\u001b[0m",
      "\u001b[0;31mNameError\u001b[0m                                 Traceback (most recent call last)",
      "\u001b[0;32m<ipython-input-1-79d921172775>\u001b[0m in \u001b[0;36m<module>\u001b[0;34m\u001b[0m\n\u001b[0;32m----> 1\u001b[0;31m \u001b[0ma\u001b[0m \u001b[0;34m=\u001b[0m \u001b[0mnp\u001b[0m\u001b[0;34m.\u001b[0m\u001b[0mappend\u001b[0m\u001b[0;34m(\u001b[0m\u001b[0mfinal_features\u001b[0m\u001b[0;34m,\u001b[0m \u001b[0mfinal_features1\u001b[0m\u001b[0;34m)\u001b[0m\u001b[0;34m\u001b[0m\u001b[0;34m\u001b[0m\u001b[0m\n\u001b[0m",
      "\u001b[0;31mNameError\u001b[0m: name 'np' is not defined"
     ]
    }
   ],
   "source": [
    "a = np.append(final_features, final_features1)"
   ]
  },
  {
   "cell_type": "code",
   "execution_count": null,
   "metadata": {},
   "outputs": [],
   "source": [
    "1536+1536"
   ]
  },
  {
   "cell_type": "code",
   "execution_count": null,
   "metadata": {},
   "outputs": [],
   "source": [
    "import matplotlib.pyplot as plt"
   ]
  },
  {
   "cell_type": "code",
   "execution_count": null,
   "metadata": {},
   "outputs": [],
   "source": [
    "Image"
   ]
  },
  {
   "cell_type": "code",
   "execution_count": null,
   "metadata": {},
   "outputs": [],
   "source": [
    "birdview = birdview_producer.produce(\n",
    "agent_vehicle=ego_vehicle  # carla.Actor (spawned vehicle)\n",
    ")\n",
    "rgb = BirdViewProducer.as_rgb(birdview)\n",
    "cv2.imshow('Frame',rgb)\n"
   ]
  },
  {
   "cell_type": "code",
   "execution_count": null,
   "metadata": {},
   "outputs": [],
   "source": [
    "cv2.destroyAllWindows()"
   ]
  },
  {
   "cell_type": "code",
   "execution_count": null,
   "metadata": {},
   "outputs": [],
   "source": [
    "net = InceptionResNetV2(include_top=True,\n",
    "                        weights='imagenet',\n",
    "                        input_tensor=None,\n",
    "                        input_shape=(299,299,3))"
   ]
  },
  {
   "cell_type": "code",
   "execution_count": null,
   "metadata": {},
   "outputs": [],
   "source": [
    "print(net.summary())"
   ]
  },
  {
   "cell_type": "code",
   "execution_count": 4,
   "metadata": {},
   "outputs": [],
   "source": [
    "import numpy as np"
   ]
  },
  {
   "cell_type": "code",
   "execution_count": 5,
   "metadata": {},
   "outputs": [],
   "source": [
    "a = np.random.rand(5,)"
   ]
  },
  {
   "cell_type": "code",
   "execution_count": 11,
   "metadata": {},
   "outputs": [],
   "source": [
    "c = a.reshape(a.shape[0])"
   ]
  },
  {
   "cell_type": "code",
   "execution_count": 14,
   "metadata": {},
   "outputs": [
    {
     "data": {
      "text/plain": [
       "[0.29341825691336976,\n",
       " 0.8793488004025491,\n",
       " 0.0666725049362531,\n",
       " 0.2084351205887519,\n",
       " 0.742487181416361]"
      ]
     },
     "execution_count": 14,
     "metadata": {},
     "output_type": "execute_result"
    }
   ],
   "source": [
    "list(a)"
   ]
  },
  {
   "cell_type": "code",
   "execution_count": null,
   "metadata": {},
   "outputs": [],
   "source": []
  }
 ],
 "metadata": {
  "kernelspec": {
   "display_name": "Python 3",
   "language": "python",
   "name": "python3"
  },
  "language_info": {
   "codemirror_mode": {
    "name": "ipython",
    "version": 3
   },
   "file_extension": ".py",
   "mimetype": "text/x-python",
   "name": "python",
   "nbconvert_exporter": "python",
   "pygments_lexer": "ipython3",
   "version": "3.7.6"
  }
 },
 "nbformat": 4,
 "nbformat_minor": 4
}
