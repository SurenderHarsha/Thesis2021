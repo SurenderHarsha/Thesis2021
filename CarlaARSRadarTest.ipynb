{
 "cells": [
  {
   "cell_type": "code",
   "execution_count": 1,
   "metadata": {},
   "outputs": [],
   "source": [
    "import os\n",
    "os.environ[\"NGSIM_DIR\"] = \"/home/surender/Downloads/NGSIM\"\n",
    "os.environ[\"OPENDD_DIR\"] = \"/home/surender/Downloads/openDD\"\n",
    "os.environ[\"CARLA_PATH\"] = \"/home/surender/Downloads/carlaOld\"\n",
    "import sys\n",
    "#sys.path.append('/home/surender/Downloads/CARLA_0.9.9.4/PythonAPI/carla/dist')\n",
    "import carla\n",
    "import random\n",
    "import argparse\n",
    "\n",
    "from carla_real_traffic_scenarios.carla_maps import CarlaMaps\n",
    "from carla_real_traffic_scenarios.ngsim import NGSimDatasets, DatasetMode\n",
    "from carla_real_traffic_scenarios.ngsim.scenario import NGSimLaneChangeScenario\n",
    "from carla_real_traffic_scenarios.opendd.scenario import OpenDDScenario\n",
    "from carla_real_traffic_scenarios.reward import RewardType\n",
    "from carla_real_traffic_scenarios.scenario import Scenario\n",
    "\n",
    "from carla_birdeye_view import BirdViewProducer, BirdViewCropType, PixelDimensions\n",
    "from PIL import Image\n",
    "from IPython.display import clear_output, Image, display, HTML\n",
    "import cv2\n",
    "\n",
    "%matplotlib tk\n",
    "import matplotlib.animation as animation\n",
    "import matplotlib.pyplot as plt\n",
    "import numpy as np\n",
    "import threading\n",
    "import time\n",
    "\n"
   ]
  },
  {
   "cell_type": "code",
   "execution_count": null,
   "metadata": {},
   "outputs": [],
   "source": [
    "from src.VehicleActor import *"
   ]
  },
  {
   "cell_type": "code",
   "execution_count": null,
   "metadata": {},
   "outputs": [],
   "source": [
    "def cmd_carla1():\n",
    "    os.system(\"/home/surender/Downloads/carlaOld/CarlaUE4.sh -benchmark -fps=10 -quality-level=Low -opengl -Resx=300 -Resy=300 -NoVSync\")"
   ]
  },
  {
   "cell_type": "code",
   "execution_count": 2,
   "metadata": {},
   "outputs": [],
   "source": [
    "def cmd_carla():\n",
    "    os.system(\"DISPLAY= /home/surender/Downloads/carlaOld/CarlaUE4.sh -benchmark -fps=10 -quality-level=Low -opengl -Resx=300 -Resy=300 -NoVSync\")"
   ]
  },
  {
   "cell_type": "code",
   "execution_count": 3,
   "metadata": {},
   "outputs": [],
   "source": [
    "'''\n",
    "def parser_args():\n",
    "    parser = argparse.ArgumentParser()\n",
    "    parser.add_argument(\"--dataset\", choices=[\"ngsim\", \"opendd\"], default=\"opendd\")\n",
    "    parser.add_argument(\"--host\", default=\"127.0.0.1\")\n",
    "    parser.add_argument(\"--port\", default=2000, type=int)\n",
    "    parser.add_argument(\"--num-episodes\", default=10, type=int)\n",
    "    args = parser.parse_args()\n",
    "    return args\n",
    "\n",
    "'''\n",
    "\n",
    "def prepare_ngsim_scenario(client: carla.Client) -> Scenario:\n",
    "    data_dir = os.environ.get(\"NGSIM_DIR\")\n",
    "    #data_dir = os.listdir('/home/surender/Downloads/NGSIM')\n",
    "    assert data_dir, \"Path to the directory with NGSIM dataset is required\"\n",
    "    ngsim_map = NGSimDatasets.list()\n",
    "    ngsim_dataset = ngsim_map[1]\n",
    "    client.load_world(ngsim_dataset.carla_map.level_path)\n",
    "    return NGSimLaneChangeScenario(\n",
    "        ngsim_dataset,\n",
    "        dataset_mode=DatasetMode.TRAIN,\n",
    "        data_dir=data_dir,\n",
    "        reward_type=RewardType.DENSE,\n",
    "        client=client,\n",
    "    )\n",
    "\n",
    "'''\n",
    "def prepare_opendd_scenario(client: carla.Client) -> Scenario:\n",
    "    data_dir = os.environ.get(\"OPENDD_DIR\")\n",
    "    assert data_dir, \"Path to the directory with openDD dataset is required\"\n",
    "    maps = [\"rdb1\", \"rdb2\", \"rdb3\", \"rdb4\", \"rdb5\", \"rdb6\", \"rdb7\"]\n",
    "    map_name = random.choice(maps)\n",
    "    carla_map = getattr(CarlaMaps, map_name.upper())\n",
    "    client.load_world(carla_map.level_path)\n",
    "    return OpenDDScenario(\n",
    "        client,\n",
    "        dataset_dir=data_dir,\n",
    "        dataset_mode=DatasetMode.TRAIN,\n",
    "        reward_type=RewardType.DENSE,\n",
    "        place_name=map_name,\n",
    "    )\n",
    "\n",
    "'''\n",
    "def prepare_ego_vehicle(world: carla.World) -> carla.Actor:\n",
    "    car_blueprint = world.get_blueprint_library().find(\"vehicle.audi.a2\")\n",
    "\n",
    "    # This will allow external scripts like manual_control.py or no_rendering_mode.py\n",
    "    # from the official CARLA examples to take control over the ego agent\n",
    "    car_blueprint.set_attribute(\"role_name\", \"hero\")\n",
    "\n",
    "    # spawn points doesnt matter - scenario sets up position in reset\n",
    "    ego_vehicle = world.spawn_actor(\n",
    "        car_blueprint, carla.Transform(carla.Location(0, 0, 500), carla.Rotation())\n",
    "    )\n",
    "\n",
    "    assert ego_vehicle is not None, \"Ego vehicle could not be spawned\"\n",
    "\n",
    "    # Setup any car sensors you like, collect observations and then use them as input to your model\n",
    "    return ego_vehicle"
   ]
  },
  {
   "cell_type": "code",
   "execution_count": 4,
   "metadata": {},
   "outputs": [],
   "source": [
    "p = threading.Thread(target = cmd_carla)\n",
    "p.start()\n"
   ]
  },
  {
   "cell_type": "code",
   "execution_count": 5,
   "metadata": {},
   "outputs": [],
   "source": [
    "host = \"localhost\"\n",
    "port = 2000\n",
    "client = carla.Client(host,port)"
   ]
  },
  {
   "cell_type": "code",
   "execution_count": 6,
   "metadata": {},
   "outputs": [
    {
     "name": "stderr",
     "output_type": "stream",
     "text": [
      "Switch synchronous_mode=True\n",
      "Change fixed_delta_seconds=0.1\n"
     ]
    }
   ],
   "source": [
    "scenario = prepare_ngsim_scenario(client)"
   ]
  },
  {
   "cell_type": "code",
   "execution_count": 7,
   "metadata": {},
   "outputs": [],
   "source": [
    "world = client.get_world()\n",
    "spectator = world.get_spectator()\n",
    "ego_vehicle = prepare_ego_vehicle(world)\n",
    "\n",
    "\n"
   ]
  },
  {
   "cell_type": "code",
   "execution_count": 18,
   "metadata": {},
   "outputs": [
    {
     "name": "stderr",
     "output_type": "stream",
     "text": [
      "Cache file does not exist, generating cache at birdview_v2_cache/US-101__px_per_meter=4__opendrive_hash=d3f99b7fd2bbc1edeccfc6adf7734070cfa49743__margin=300.npy\n"
     ]
    }
   ],
   "source": [
    "birdview_producer = BirdViewProducer(\n",
    "    client,  # carla.Client\n",
    "    target_size=PixelDimensions(width=150, height=336),\n",
    "    pixels_per_meter=4,\n",
    "    crop_type=BirdViewCropType.FRONT_AND_REAR_AREA\n",
    "    )"
   ]
  },
  {
   "cell_type": "code",
   "execution_count": 21,
   "metadata": {},
   "outputs": [
    {
     "data": {
      "text/plain": [
       "68976162"
      ]
     },
     "execution_count": 21,
     "metadata": {},
     "output_type": "execute_result"
    }
   ],
   "source": [
    "world.tick()"
   ]
  },
  {
   "cell_type": "code",
   "execution_count": 339,
   "metadata": {},
   "outputs": [
    {
     "name": "stdout",
     "output_type": "stream",
     "text": [
      "0.0 CHANGE_LANE_RIGHT\n",
      "-1 LANE_FOLLOW\n"
     ]
    }
   ],
   "source": [
    "done = False\n",
    "while not done:\n",
    "    ego_vehicle.apply_control(carla.VehicleControl(throttle=1, steer=0))\n",
    "    world.tick()\n",
    "    a,b,c,d = scenario.step(ego_vehicle)\n",
    "    print(b,a.name)\n",
    "    done = c\n",
    "    birdview = birdview_producer.produce(\n",
    "            agent_vehicle=ego_vehicle  # carla.Actor (spawned vehicle)\n",
    "            )\n",
    "    rgb = BirdViewProducer.as_rgb(birdview)\n",
    "    cv2.imshow('Frame',rgb)\n",
    "    if cv2.waitKey(25) & 0xFF == ord('q'):\n",
    "        break\n",
    "cv2.destroyAllWindows()"
   ]
  },
  {
   "cell_type": "code",
   "execution_count": 338,
   "metadata": {},
   "outputs": [],
   "source": [
    "scenario.reset(ego_vehicle)"
   ]
  },
  {
   "cell_type": "code",
   "execution_count": 329,
   "metadata": {},
   "outputs": [],
   "source": [
    "ego_vehicle.apply_control(carla.VehicleControl(throttle=1, steer=0))"
   ]
  },
  {
   "cell_type": "code",
   "execution_count": 330,
   "metadata": {},
   "outputs": [
    {
     "data": {
      "text/plain": [
       "68976203"
      ]
     },
     "execution_count": 330,
     "metadata": {},
     "output_type": "execute_result"
    }
   ],
   "source": [
    "world.tick()"
   ]
  },
  {
   "cell_type": "code",
   "execution_count": 331,
   "metadata": {},
   "outputs": [],
   "source": [
    "a,b,c,d = scenario.step(ego_vehicle)"
   ]
  },
  {
   "cell_type": "code",
   "execution_count": 332,
   "metadata": {},
   "outputs": [
    {
     "data": {
      "text/plain": [
       "0.0"
      ]
     },
     "execution_count": 332,
     "metadata": {},
     "output_type": "execute_result"
    }
   ],
   "source": [
    "b"
   ]
  },
  {
   "cell_type": "code",
   "execution_count": 333,
   "metadata": {},
   "outputs": [
    {
     "data": {
      "text/plain": [
       "'LANE_FOLLOW'"
      ]
     },
     "execution_count": 333,
     "metadata": {},
     "output_type": "execute_result"
    }
   ],
   "source": [
    "a.name"
   ]
  },
  {
   "cell_type": "code",
   "execution_count": 334,
   "metadata": {},
   "outputs": [
    {
     "data": {
      "text/plain": [
       "0"
      ]
     },
     "execution_count": 334,
     "metadata": {},
     "output_type": "execute_result"
    }
   ],
   "source": [
    "a.value"
   ]
  },
  {
   "cell_type": "code",
   "execution_count": 335,
   "metadata": {},
   "outputs": [
    {
     "data": {
      "text/plain": [
       "{'ngsim_dataset': {'road': 'US101',\n",
       "  'timeslice': '0820am-0835am',\n",
       "  'frame': 4378,\n",
       "  'dataset_mode': 'TRAIN'},\n",
       " 'scenario_data': {'ego_veh': <carla.libcarla.Vehicle at 0x7f445371c750>,\n",
       "  'original_veh_transform': <carla.libcarla.Transform at 0x7f43783e8af0>,\n",
       "  'original_to_ego_distance': 18.436887741088867},\n",
       " 'reward_type': 'DENSE',\n",
       " 'on_start_lane': False,\n",
       " 'on_target_lane': True,\n",
       " 'is_junction': True,\n",
       " 'alignment_errors': 'track=1.39m yaw=0.06rad',\n",
       " 'target_alignment_counter': 0}"
      ]
     },
     "execution_count": 335,
     "metadata": {},
     "output_type": "execute_result"
    }
   ],
   "source": [
    "d"
   ]
  },
  {
   "cell_type": "code",
   "execution_count": 336,
   "metadata": {},
   "outputs": [],
   "source": [
    "birdview = birdview_producer.produce(\n",
    "            agent_vehicle=ego_vehicle  # carla.Actor (spawned vehicle)\n",
    "            )\n",
    "rgb = BirdViewProducer.as_rgb(birdview)\n",
    "cv2.imshow('Frame',rgb)\n",
    "if cv2.waitKey(25) & 0xFF == ord('q'):\n",
    "    cv2.destroyAllWindows()\n",
    "      "
   ]
  },
  {
   "cell_type": "code",
   "execution_count": null,
   "metadata": {},
   "outputs": [],
   "source": [
    "manager = VehicleManager(ego_vehicle,world,scenario)"
   ]
  },
  {
   "cell_type": "code",
   "execution_count": null,
   "metadata": {},
   "outputs": [],
   "source": [
    "world.tick()"
   ]
  },
  {
   "cell_type": "code",
   "execution_count": null,
   "metadata": {},
   "outputs": [],
   "source": [
    "manager.update_neighbours()"
   ]
  },
  {
   "cell_type": "code",
   "execution_count": null,
   "metadata": {},
   "outputs": [],
   "source": [
    "manager.neighbour_profiles"
   ]
  },
  {
   "cell_type": "code",
   "execution_count": null,
   "metadata": {},
   "outputs": [],
   "source": [
    "manager.update_buffers()"
   ]
  },
  {
   "cell_type": "code",
   "execution_count": null,
   "metadata": {},
   "outputs": [],
   "source": [
    "e,n = manager.return_data()"
   ]
  },
  {
   "cell_type": "code",
   "execution_count": null,
   "metadata": {},
   "outputs": [],
   "source": [
    "world.tick()\n"
   ]
  },
  {
   "cell_type": "code",
   "execution_count": null,
   "metadata": {},
   "outputs": [],
   "source": [
    "manager.vehicleSensorslist[1764].current_frame"
   ]
  },
  {
   "cell_type": "code",
   "execution_count": null,
   "metadata": {},
   "outputs": [],
   "source": [
    "plt.imshow(e[0])"
   ]
  },
  {
   "cell_type": "code",
   "execution_count": null,
   "metadata": {},
   "outputs": [],
   "source": [
    "plt.imshow(e[1])"
   ]
  },
  {
   "cell_type": "code",
   "execution_count": null,
   "metadata": {},
   "outputs": [],
   "source": [
    "plt.imshow(n[0][1])"
   ]
  },
  {
   "cell_type": "code",
   "execution_count": null,
   "metadata": {},
   "outputs": [],
   "source": [
    "manager.update_neighbours()\n",
    "world.tick()\n",
    "time.sleep(1)\n",
    "manager.update_buffers()\n",
    "ego,n = manager.return_data()"
   ]
  },
  {
   "cell_type": "code",
   "execution_count": null,
   "metadata": {},
   "outputs": [],
   "source": [
    "manager.update_buffers()"
   ]
  },
  {
   "cell_type": "code",
   "execution_count": null,
   "metadata": {},
   "outputs": [],
   "source": [
    "ego,n = manager.return_data()"
   ]
  },
  {
   "cell_type": "code",
   "execution_count": null,
   "metadata": {},
   "outputs": [],
   "source": [
    "ego"
   ]
  },
  {
   "cell_type": "code",
   "execution_count": null,
   "metadata": {},
   "outputs": [],
   "source": [
    "n"
   ]
  },
  {
   "cell_type": "code",
   "execution_count": null,
   "metadata": {},
   "outputs": [],
   "source": [
    "sys.getsizeof(n)"
   ]
  },
  {
   "cell_type": "code",
   "execution_count": null,
   "metadata": {},
   "outputs": [],
   "source": [
    "n[0][0].shape"
   ]
  },
  {
   "cell_type": "code",
   "execution_count": null,
   "metadata": {},
   "outputs": [],
   "source": [
    "sys.getsizeof(e)"
   ]
  },
  {
   "cell_type": "code",
   "execution_count": null,
   "metadata": {},
   "outputs": [],
   "source": [
    "manager.vehicleSensorslist[0].start_sensors()"
   ]
  },
  {
   "cell_type": "code",
   "execution_count": null,
   "metadata": {},
   "outputs": [],
   "source": []
  },
  {
   "cell_type": "code",
   "execution_count": null,
   "metadata": {},
   "outputs": [],
   "source": [
    "manager.vehicleSensorslist[0].gnss_buffer"
   ]
  },
  {
   "cell_type": "code",
   "execution_count": null,
   "metadata": {},
   "outputs": [],
   "source": [
    "scenario.step(ego_vehicle).chauffeur_cmd = 1"
   ]
  },
  {
   "cell_type": "code",
   "execution_count": 10,
   "metadata": {},
   "outputs": [
    {
     "data": {
      "text/plain": [
       "LaneChangeInstant(timeslot=NGSimTimeslot(file_suffix='0750am-0805am', blacklisted_vehicle_ids=frozenset({2851, 2691, 2820, 2809, 2871, 2873})), frame_start=6177, vehicle_id=2056, lane_from=4, lane_to=3)"
      ]
     },
     "execution_count": 10,
     "metadata": {},
     "output_type": "execute_result"
    }
   ],
   "source": [
    "scenario._lane_change"
   ]
  },
  {
   "cell_type": "code",
   "execution_count": null,
   "metadata": {},
   "outputs": [],
   "source": [
    "vehicles[0]._vehicle_by_vehicle_id"
   ]
  },
  {
   "cell_type": "code",
   "execution_count": null,
   "metadata": {},
   "outputs": [],
   "source": [
    "scenario._"
   ]
  },
  {
   "cell_type": "code",
   "execution_count": 13,
   "metadata": {},
   "outputs": [
    {
     "data": {
      "text/plain": [
       "500.0"
      ]
     },
     "execution_count": 13,
     "metadata": {},
     "output_type": "execute_result"
    }
   ],
   "source": [
    "ego_vehicle.get_transform().location.z"
   ]
  },
  {
   "cell_type": "code",
   "execution_count": 11,
   "metadata": {},
   "outputs": [],
   "source": [
    "l1 = list(scenario._ngsim_vehicles_in_carla._vehicle_by_vehicle_id.keys())"
   ]
  },
  {
   "cell_type": "code",
   "execution_count": 12,
   "metadata": {},
   "outputs": [
    {
     "data": {
      "text/plain": [
       "[2048,\n",
       " 2050,\n",
       " 2052,\n",
       " 2053,\n",
       " 2054,\n",
       " 2055,\n",
       " 2057,\n",
       " 2059,\n",
       " 2060,\n",
       " 2061,\n",
       " 2065,\n",
       " 2067,\n",
       " 2068,\n",
       " 2069,\n",
       " 2071,\n",
       " 2072,\n",
       " 2073,\n",
       " 2074,\n",
       " 2079,\n",
       " 2080,\n",
       " 2082,\n",
       " 2084,\n",
       " 2085,\n",
       " 2086,\n",
       " 2088,\n",
       " 2089,\n",
       " 2090,\n",
       " 2092,\n",
       " 2093,\n",
       " 2096,\n",
       " 2098,\n",
       " 2099,\n",
       " 2102,\n",
       " 2103,\n",
       " 2104,\n",
       " 2105,\n",
       " 2106,\n",
       " 2107,\n",
       " 2108,\n",
       " 2111,\n",
       " 2112,\n",
       " 2115,\n",
       " 2116,\n",
       " 2118,\n",
       " 2119,\n",
       " 2124,\n",
       " 2125,\n",
       " 2126,\n",
       " 2127,\n",
       " 2128,\n",
       " 2129,\n",
       " 2130,\n",
       " 2131,\n",
       " 2132,\n",
       " 2133,\n",
       " 2134,\n",
       " 2135,\n",
       " 2136,\n",
       " 2138,\n",
       " 2139,\n",
       " 2140,\n",
       " 2142,\n",
       " 2144,\n",
       " 2148,\n",
       " 2150,\n",
       " 2156,\n",
       " 2162,\n",
       " 2170,\n",
       " 1931,\n",
       " 1937,\n",
       " 1945,\n",
       " 1955,\n",
       " 1961,\n",
       " 1964,\n",
       " 1966,\n",
       " 1967,\n",
       " 1968,\n",
       " 1969,\n",
       " 1970,\n",
       " 1971,\n",
       " 1972,\n",
       " 1973,\n",
       " 1975,\n",
       " 1976,\n",
       " 1977,\n",
       " 1978,\n",
       " 1979,\n",
       " 1980,\n",
       " 1981,\n",
       " 1982,\n",
       " 1983,\n",
       " 1984,\n",
       " 1985,\n",
       " 1987,\n",
       " 1988,\n",
       " 1989,\n",
       " 1991,\n",
       " 1992,\n",
       " 1995,\n",
       " 1996,\n",
       " 1998,\n",
       " 1999,\n",
       " 2000,\n",
       " 2001,\n",
       " 2003,\n",
       " 2006,\n",
       " 2007,\n",
       " 2008,\n",
       " 2010,\n",
       " 2015,\n",
       " 2016,\n",
       " 2019,\n",
       " 2031,\n",
       " 2032,\n",
       " 2033,\n",
       " 2034,\n",
       " 2035,\n",
       " 2036,\n",
       " 2037,\n",
       " 2039,\n",
       " 2041,\n",
       " 2042,\n",
       " 2043,\n",
       " 2044,\n",
       " 2045,\n",
       " 2046]"
      ]
     },
     "execution_count": 12,
     "metadata": {},
     "output_type": "execute_result"
    }
   ],
   "source": [
    "l1"
   ]
  },
  {
   "cell_type": "code",
   "execution_count": 14,
   "metadata": {},
   "outputs": [],
   "source": [
    "vehicles = scenario._ngsim_recording.step()"
   ]
  },
  {
   "cell_type": "code",
   "execution_count": 15,
   "metadata": {},
   "outputs": [
    {
     "data": {
      "text/plain": [
       "[RealTrafficVehicle(id=2048, type_id='vehicle.mustang.mustang', timestamp_s=0.2, width_m=1.7983200000000001, length_m=5.1816, transform=Transform(position=Vector3(x=-10.780916665247284, y=0.26985530487004145, z=-0.007357253693044186), orientation=Vector2(x=0.9983903761296602, y=-0.056715578562470094)), speed=82.17191637135615, debug=False),\n",
       " RealTrafficVehicle(id=2050, type_id='vehicle.audi.etron', timestamp_s=0.2, width_m=1.9507200000000002, length_m=5.0292, transform=Transform(position=Vector3(x=-38.04565192499647, y=4.593618098231916, z=-0.050091702491045), orientation=Vector2(x=0.999998833902921, y=0.001527151858282175)), speed=83.71893697531488, debug=False),\n",
       " RealTrafficVehicle(id=2052, type_id='vehicle.lincoln.mkz2017', timestamp_s=0.2, width_m=2.10312, length_m=4.8768, transform=Transform(position=Vector3(x=-51.371305269511915, y=4.795714377180053, z=-0.011359786614775658), orientation=Vector2(x=0.9999988462982949, y=0.001519013521693143)), speed=85.03567345556952, debug=False),\n",
       " RealTrafficVehicle(id=2053, type_id='vehicle.mustang.mustang', timestamp_s=0.2, width_m=1.6459200000000003, length_m=4.7244, transform=Transform(position=Vector3(x=-50.64565652548009, y=-5.522982286359252, z=-0.007357253693044186), orientation=Vector2(x=0.9999695148053145, y=0.007808294309514497)), speed=89.95993233167447, debug=False),\n",
       " RealTrafficVehicle(id=2054, type_id='vehicle.citroen.c3', timestamp_s=0.2, width_m=1.6459200000000003, length_m=3.9624, transform=Transform(position=Vector3(x=-55.34407993074635, y=-2.4487835262733557, z=0.03734729811549187), orientation=Vector2(x=0.9999971659956275, y=0.002380756332213994)), speed=78.00529641355848, debug=False),\n",
       " RealTrafficVehicle(id=2055, type_id='vehicle.carlamotors.carlacola', timestamp_s=0.2, width_m=2.5908, length_m=6.096, transform=Transform(position=Vector3(x=-68.43690476635115, y=-8.82829011611944, z=-0.00285758962854743), orientation=Vector2(x=0.999898257689298, y=-0.014264440749859641)), speed=65.70113398413618, debug=False),\n",
       " RealTrafficVehicle(id=2056, type_id='vehicle.mustang.mustang', timestamp_s=0.2, width_m=1.6459200000000003, length_m=4.572, transform=Transform(position=Vector3(x=-48.65192845164739, y=0.45250999365801464, z=-0.007357253693044186), orientation=Vector2(x=0.9999998370708387, y=0.0005708399915031615)), speed=94.35291493510807, debug=False),\n",
       " RealTrafficVehicle(id=2057, type_id='vehicle.seat.leon', timestamp_s=0.2, width_m=1.7983200000000001, length_m=4.2672, transform=Transform(position=Vector3(x=-73.83043601762522, y=-6.018388590964032, z=-0.006410293281078339), orientation=Vector2(x=0.999996647826033, y=-0.002589273391660924)), speed=71.77223801830563, debug=False),\n",
       " RealTrafficVehicle(id=2059, type_id='vehicle.mustang.mustang', timestamp_s=0.2, width_m=1.7983200000000001, length_m=4.572, transform=Transform(position=Vector3(x=-85.77613817574998, y=-8.706819444059501, z=-0.007357253693044186), orientation=Vector2(x=0.9970315662436443, y=0.07699386932571708)), speed=68.38990302724052, debug=False),\n",
       " RealTrafficVehicle(id=2060, type_id='vehicle.bmw.grandtourer', timestamp_s=0.2, width_m=2.25552, length_m=4.572, transform=Transform(position=Vector3(x=-81.7954878652427, y=-2.55039257467884, z=0.0727667585015297), orientation=Vector2(x=0.9999791129037612, y=0.006463262040703671)), speed=64.65980964867903, debug=False),\n",
       " RealTrafficVehicle(id=2061, type_id='vehicle.audi.etron', timestamp_s=0.2, width_m=1.9507200000000002, length_m=5.0292, transform=Transform(position=Vector3(x=-80.44157185640955, y=1.2910461351854288, z=-0.050091702491045), orientation=Vector2(x=0.999958882726764, y=0.00906823333631028)), speed=66.57369310107009, debug=False),\n",
       " RealTrafficVehicle(id=2065, type_id='vehicle.mustang.mustang', timestamp_s=0.2, width_m=1.7983200000000001, length_m=4.8768, transform=Transform(position=Vector3(x=-90.58002322610454, y=-5.5859966575042215, z=-0.007357253693044186), orientation=Vector2(x=0.9999751366336489, y=0.007051674589431455)), speed=67.09852814316285, debug=False),\n",
       " RealTrafficVehicle(id=2067, type_id='vehicle.bmw.grandtourer', timestamp_s=0.2, width_m=2.25552, length_m=4.4196, transform=Transform(position=Vector3(x=-92.31371691072002, y=0.8750212600788981, z=0.0727667585015297), orientation=Vector2(x=0.9999797732803746, y=0.006360269658645202)), speed=66.93213884153835, debug=False),\n",
       " RealTrafficVehicle(id=2068, type_id='vehicle.dodge_charger.police', timestamp_s=0.2, width_m=2.10312, length_m=5.1816, transform=Transform(position=Vector3(x=-92.36903919661101, y=5.9822418009331155, z=-0.018992232158780098), orientation=Vector2(x=0.9999787675265238, y=0.0065164788140811706)), speed=53.597170127573335, debug=False),\n",
       " RealTrafficVehicle(id=2069, type_id='vehicle.volkswagen.t2', timestamp_s=0.2, width_m=2.10312, length_m=4.4196, transform=Transform(position=Vector3(x=-77.97126164566149, y=4.364687306450927, z=-0.011650161817669868), orientation=Vector2(x=0.9999938215122657, y=0.0035152435612531433)), speed=78.75026200206776, debug=False),\n",
       " RealTrafficVehicle(id=2071, type_id='vehicle.mercedes-benz.coupe', timestamp_s=0.2, width_m=2.25552, length_m=5.3340000000000005, transform=Transform(position=Vector3(x=-98.98940626184273, y=-0.08472619976321347, z=0.12632092833518982), orientation=Vector2(x=0.9974187784108349, y=0.07180376364396145)), speed=58.37701991448872, debug=False),\n",
       " RealTrafficVehicle(id=2072, type_id='vehicle.bmw.grandtourer', timestamp_s=0.2, width_m=2.25552, length_m=4.572, transform=Transform(position=Vector3(x=-106.96592026111628, y=2.4363675283112483, z=0.0727667585015297), orientation=Vector2(x=0.9999929097643879, y=-0.003765689970332608)), speed=48.59172614318152, debug=False),\n",
       " RealTrafficVehicle(id=2073, type_id='vehicle.mustang.mustang', timestamp_s=0.2, width_m=1.7983200000000001, length_m=4.572, transform=Transform(position=Vector3(x=-103.38091430305418, y=-9.788772615882298, z=-0.007357253693044186), orientation=Vector2(x=0.9999982708381708, y=0.001859656061821636)), speed=51.02855094738943, debug=False),\n",
       " RealTrafficVehicle(id=2074, type_id='vehicle.audi.tt', timestamp_s=0.2, width_m=1.9507200000000002, length_m=4.2672, transform=Transform(position=Vector3(x=-106.02064534075629, y=-6.211959789398295, z=-0.005904807709157467), orientation=Vector2(x=0.999998057270649, y=0.0019711557339773217)), speed=60.846765568957025, debug=False),\n",
       " RealTrafficVehicle(id=2079, type_id='vehicle.mercedes-benz.coupe', timestamp_s=0.2, width_m=2.25552, length_m=5.1816, transform=Transform(position=Vector3(x=-117.69135913209064, y=-9.78778627322213, z=0.12632092833518982), orientation=Vector2(x=0.9999212441015496, y=-0.012550123282636284)), speed=47.16236921940826, debug=False),\n",
       " RealTrafficVehicle(id=2080, type_id='vehicle.bmw.grandtourer', timestamp_s=0.2, width_m=2.25552, length_m=4.1148, transform=Transform(position=Vector3(x=-125.77346140406543, y=8.161531146615648, z=0.0727667585015297), orientation=Vector2(x=0.9998718258473962, y=-0.016010367784475375)), speed=105.54484294859719, debug=False),\n",
       " RealTrafficVehicle(id=2082, type_id='vehicle.lincoln.mkz2017', timestamp_s=0.2, width_m=2.10312, length_m=4.7244, transform=Transform(position=Vector3(x=-113.42543629153288, y=-2.571695671563311, z=-0.011359786614775658), orientation=Vector2(x=0.9999801995998527, y=-0.006292885525628836)), speed=69.32178972712957, debug=False),\n",
       " RealTrafficVehicle(id=2084, type_id='vehicle.bmw.grandtourer', timestamp_s=0.2, width_m=2.25552, length_m=4.8768, transform=Transform(position=Vector3(x=-115.22954044834415, y=4.230979623741684, z=0.0727667585015297), orientation=Vector2(x=0.99997918816611, y=-0.006451607136792295)), speed=58.85629182118018, debug=False),\n",
       " RealTrafficVehicle(id=2085, type_id='vehicle.mustang.mustang', timestamp_s=0.2, width_m=1.7983200000000001, length_m=4.8768, transform=Transform(position=Vector3(x=-127.78877339626457, y=-5.666977893672117, z=-0.007357253693044186), orientation=Vector2(x=0.9998945206235313, y=-0.014524036182772463)), speed=62.612854836078085, debug=False),\n",
       " RealTrafficVehicle(id=2086, type_id='vehicle.lincoln.mkz2017', timestamp_s=0.2, width_m=2.10312, length_m=4.8768, transform=Transform(position=Vector3(x=-122.47167923511434, y=0.372371176746004, z=-0.011359786614775658), orientation=Vector2(x=0.9997526433760008, y=-0.022240774777401058)), speed=34.13549919129043, debug=False),\n",
       " RealTrafficVehicle(id=2088, type_id='vehicle.mercedes-benz.coupe', timestamp_s=0.2, width_m=2.25552, length_m=5.1816, transform=Transform(position=Vector3(x=-131.35427421887283, y=4.515953211565117, z=0.12632092833518982), orientation=Vector2(x=0.9999869552198505, y=-0.005107777416123244)), speed=57.53908240965481, debug=False),\n",
       " RealTrafficVehicle(id=2089, type_id='vehicle.mercedes-benz.coupe', timestamp_s=0.2, width_m=2.25552, length_m=5.3340000000000005, transform=Transform(position=Vector3(x=-137.08686087406574, y=-2.480856537025494, z=0.12632092833518982), orientation=Vector2(x=0.999973939914123, y=-0.007219383119483351)), speed=58.05124980837246, debug=False),\n",
       " RealTrafficVehicle(id=2090, type_id='vehicle.lincoln.mkz2017', timestamp_s=0.2, width_m=2.10312, length_m=4.8768, transform=Transform(position=Vector3(x=-139.34873447024498, y=-5.889061310765166, z=-0.011359786614775658), orientation=Vector2(x=0.9999798830196561, y=-0.006342992668681452)), speed=54.0268044931963, debug=False),\n",
       " RealTrafficVehicle(id=2092, type_id='vehicle.bmw.grandtourer', timestamp_s=0.2, width_m=2.25552, length_m=4.572, transform=Transform(position=Vector3(x=-139.98968626940712, y=-9.149260289270888, z=0.0727667585015297), orientation=Vector2(x=0.9999894758234578, y=-0.004587836344756735)), speed=49.133617927338484, debug=False),\n",
       " RealTrafficVehicle(id=2093, type_id='vehicle.lincoln.mkz2017', timestamp_s=0.2, width_m=2.10312, length_m=4.8768, transform=Transform(position=Vector3(x=-134.11635521062547, y=0.7864195267258869, z=-0.011359786614775658), orientation=Vector2(x=0.9999780484891462, y=-0.006625899172098637)), speed=31.628719391772584, debug=False),\n",
       " RealTrafficVehicle(id=2096, type_id='vehicle.mini.cooperst', timestamp_s=0.2, width_m=2.10312, length_m=3.9624, transform=Transform(position=Vector3(x=-156.14941028273512, y=-5.47746647294007, z=0.041275788098573685), orientation=Vector2(x=0.9999801977647963, y=-0.006293177121212868)), speed=45.448721829615835, debug=False),\n",
       " RealTrafficVehicle(id=2098, type_id='vehicle.bmw.grandtourer', timestamp_s=0.2, width_m=2.25552, length_m=4.7244, transform=Transform(position=Vector3(x=-156.3660503408565, y=4.8156985450223635, z=0.0727667585015297), orientation=Vector2(x=0.999981883572216, y=-0.0060193460909988275)), speed=79.0517238932788, debug=False),\n",
       " RealTrafficVehicle(id=2099, type_id='vehicle.seat.leon', timestamp_s=0.2, width_m=1.6459200000000003, length_m=4.2672, transform=Transform(position=Vector3(x=-188.1881218359224, y=9.245412514876879, z=-0.006410293281078339), orientation=Vector2(x=0.9997989650775189, y=-0.020050671557885227)), speed=109.7896090537121, debug=False),\n",
       " RealTrafficVehicle(id=2102, type_id='vehicle.carlamotors.carlacola', timestamp_s=0.2, width_m=2.5603200000000004, length_m=8.077200000000001, transform=Transform(position=Vector3(x=-155.03175642412552, y=-1.760933811580773, z=-0.00285758962854743), orientation=Vector2(x=0.9999799778920752, y=-0.00632801824941928)), speed=44.15701298814833, debug=False),\n",
       " RealTrafficVehicle(id=2103, type_id='vehicle.mustang.mustang', timestamp_s=0.2, width_m=1.7983200000000001, length_m=5.0292, transform=Transform(position=Vector3(x=-148.27973415002512, y=1.3356315041825197, z=-0.007357253693044186), orientation=Vector2(x=0.999979917718483, y=-0.006337519998849892)), speed=42.84288936523533, debug=False),\n",
       " RealTrafficVehicle(id=2104, type_id='vehicle.audi.a2', timestamp_s=0.2, width_m=1.524, length_m=3.6576000000000004, transform=Transform(position=Vector3(x=-182.95537071186538, y=4.57496111075884, z=-0.010922241024672985), orientation=Vector2(x=0.9999683667136273, y=-0.007953965808359142)), speed=79.23732423782155, debug=False),\n",
       " RealTrafficVehicle(id=2105, type_id='vehicle.mini.cooperst', timestamp_s=0.2, width_m=1.9812, length_m=3.5052000000000003, transform=Transform(position=Vector3(x=-160.42630679650156, y=-7.56936010612258, z=0.041275788098573685), orientation=Vector2(x=0.9957172040747216, y=0.09245133589959226)), speed=35.90592982765294, debug=False),\n",
       " RealTrafficVehicle(id=2106, type_id='vehicle.jeep.wrangler_rubicon', timestamp_s=0.2, width_m=1.9507200000000002, length_m=3.9624, transform=Transform(position=Vector3(x=-174.53567971175417, y=-5.290780718827434, z=0.004644622560590506), orientation=Vector2(x=0.9999455899283157, y=-0.010431547484080938)), speed=40.81444617154626, debug=False),\n",
       " RealTrafficVehicle(id=2107, type_id='vehicle.seat.leon', timestamp_s=0.2, width_m=1.6459200000000003, length_m=4.2672, transform=Transform(position=Vector3(x=-207.35848651923286, y=5.476059311267879, z=-0.006410293281078339), orientation=Vector2(x=0.9995565561225381, y=0.02977735905770254)), speed=72.91148672684578, debug=False),\n",
       " RealTrafficVehicle(id=2108, type_id='vehicle.chevrolet.impala', timestamp_s=0.2, width_m=1.4935200000000002, length_m=5.638800000000001, transform=Transform(position=Vector3(x=-179.1780997082948, y=-1.9953295408302332, z=-0.04786643758416176), orientation=Vector2(x=0.9999369190099693, y=-0.011232007872595921)), speed=49.03734202682433, debug=False),\n",
       " RealTrafficVehicle(id=2111, type_id='vehicle.carlamotors.carlacola', timestamp_s=0.2, width_m=2.5603200000000004, length_m=5.486400000000001, transform=Transform(position=Vector3(x=-175.29661696651812, y=-8.791511166432324, z=-0.00285758962854743), orientation=Vector2(x=0.9999802695224397, y=-0.006281764547388134)), speed=28.955582762576654, debug=False),\n",
       " RealTrafficVehicle(id=2112, type_id='vehicle.mercedes-benz.coupe', timestamp_s=0.2, width_m=2.25552, length_m=5.0292, transform=Transform(position=Vector3(x=-175.62808317840387, y=1.2653005665930812, z=0.12632092833518982), orientation=Vector2(x=0.9999587913644036, y=-0.009078302321538887)), speed=58.80476845483093, debug=False),\n",
       " RealTrafficVehicle(id=2115, type_id='vehicle.seat.leon', timestamp_s=0.2, width_m=1.4935200000000002, length_m=4.1148, transform=Transform(position=Vector3(x=-197.24051918952117, y=-5.481309810789967, z=-0.006410293281078339), orientation=Vector2(x=0.9999898241642979, y=0.004511271201842115)), speed=49.64632964923209, debug=False),\n",
       " RealTrafficVehicle(id=2116, type_id='vehicle.citroen.c3', timestamp_s=0.2, width_m=1.7983200000000001, length_m=3.9624, transform=Transform(position=Vector3(x=-224.45352260516233, y=4.367735759366612, z=0.03734729811549187), orientation=Vector2(x=0.9998129766861261, y=-0.019339380807765334)), speed=72.9415662619752, debug=False),\n",
       " RealTrafficVehicle(id=2118, type_id='vehicle.citroen.c3', timestamp_s=0.2, width_m=1.7983200000000001, length_m=3.9624, transform=Transform(position=Vector3(x=-187.44032081002288, y=-9.01438023295686, z=0.03734729811549187), orientation=Vector2(x=0.9998813035389503, y=-0.015407103337408162)), speed=6.672781656875399, debug=False),\n",
       " RealTrafficVehicle(id=2119, type_id='vehicle.chevrolet.impala', timestamp_s=0.2, width_m=2.25552, length_m=5.486400000000001, transform=Transform(position=Vector3(x=-193.3690611008847, y=1.6313302786198507, z=-0.04786643758416176), orientation=Vector2(x=0.9999661933579868, y=-0.008222660222665745)), speed=60.731395053832884, debug=False),\n",
       " RealTrafficVehicle(id=2124, type_id='vehicle.audi.tt', timestamp_s=0.2, width_m=1.9507200000000002, length_m=4.1148, transform=Transform(position=Vector3(x=-211.2897349811423, y=-5.301050872962448, z=-0.005904807709157467), orientation=Vector2(x=0.9993399587245833, y=0.03632694449507396)), speed=47.27685227211844, debug=False),\n",
       " RealTrafficVehicle(id=2125, type_id='vehicle.mini.cooperst', timestamp_s=0.2, width_m=1.9812, length_m=3.81, transform=Transform(position=Vector3(x=-246.11694234660212, y=4.532814287444442, z=0.041275788098573685), orientation=Vector2(x=0.9995520972908374, y=-0.029926657038305212)), speed=64.61885660882206, debug=False),\n",
       " RealTrafficVehicle(id=2126, type_id='vehicle.chevrolet.impala', timestamp_s=0.2, width_m=1.9507200000000002, length_m=5.1816, transform=Transform(position=Vector3(x=-204.14930233652302, y=0.045584739545868676, z=-0.04786643758416176), orientation=Vector2(x=0.9997113914005268, y=0.024023611385940054)), speed=58.99071147607208, debug=False),\n",
       " RealTrafficVehicle(id=2127, type_id='vehicle.audi.tt', timestamp_s=0.2, width_m=2.10312, length_m=4.1148, transform=Transform(position=Vector3(x=-227.28496783859222, y=-6.072004892313497, z=-0.005904807709157467), orientation=Vector2(x=0.9985767817584147, y=-0.053333019162686714)), speed=51.780939530495054, debug=False),\n",
       " RealTrafficVehicle(id=2128, type_id='vehicle.volkswagen.t2', timestamp_s=0.2, width_m=2.10312, length_m=4.572, transform=Transform(position=Vector3(x=-264.76677440377733, y=4.507820283296919, z=-0.011650161817669868), orientation=Vector2(x=0.99995778090636, y=0.009188928383006615)), speed=60.95071172780237, debug=False),\n",
       " RealTrafficVehicle(id=2129, type_id='vehicle.seat.leon', timestamp_s=0.2, width_m=1.6459200000000003, length_m=4.1148, transform=Transform(position=Vector3(x=-233.2692716038614, y=-2.371220559969236, z=-0.006410293281078339), orientation=Vector2(x=0.9995912811349564, y=-0.028587946393128748)), speed=66.0324916387781, debug=False),\n",
       " RealTrafficVehicle(id=2130, type_id='vehicle.carlamotors.carlacola', timestamp_s=0.2, width_m=2.4079200000000003, length_m=5.7912, transform=Transform(position=Vector3(x=-198.97985336716624, y=-8.481817692774046, z=-0.00285758962854743), orientation=Vector2(x=0.9999841143842488, y=0.005636575125862502)), speed=4.253520744321926, debug=False),\n",
       " RealTrafficVehicle(id=2131, type_id='vehicle.nissan.patrol', timestamp_s=0.2, width_m=1.9507200000000002, length_m=4.572, transform=Transform(position=Vector3(x=-216.45165871160506, y=1.42560199979076, z=0.009825591929256916), orientation=Vector2(x=0.9999998861076058, y=0.0004772680329986362)), speed=57.98384055239461, debug=False),\n",
       " RealTrafficVehicle(id=2132, type_id='vehicle.seat.leon', timestamp_s=0.2, width_m=1.7983200000000001, length_m=4.1148, transform=Transform(position=Vector3(x=-257.8192239911789, y=-6.176854704587805, z=-0.006410293281078339), orientation=Vector2(x=0.9999321109192045, y=0.011652190895436048)), speed=60.71896743457836, debug=False),\n",
       " RealTrafficVehicle(id=2133, type_id='vehicle.volkswagen.t2', timestamp_s=0.2, width_m=2.10312, length_m=4.572, transform=Transform(position=Vector3(x=-242.34048851919727, y=0.9186726853740567, z=-0.011650161817669868), orientation=Vector2(x=0.9988753198192185, y=-0.04741408499648487)), speed=51.584725564256686, debug=False),\n",
       " RealTrafficVehicle(id=2134, type_id='vehicle.seat.leon', timestamp_s=0.2, width_m=1.7983200000000001, length_m=4.1148, transform=Transform(position=Vector3(x=-207.31844543098273, y=-8.820967568201636, z=-0.006410293281078339), orientation=Vector2(x=0.998937195718671, y=0.046092071007034004)), speed=6.007278147020332, debug=False),\n",
       " RealTrafficVehicle(id=2135, type_id='vehicle.nissan.patrol', timestamp_s=0.2, width_m=1.9507200000000002, length_m=4.4196, transform=Transform(position=Vector3(x=-228.06275472416706, y=0.39482783646538694, z=0.009825591929256916), orientation=Vector2(x=0.9991181535733555, y=-0.041987083730222426)), speed=52.9058760533064, debug=False),\n",
       " RealTrafficVehicle(id=2136, type_id='vehicle.chevrolet.impala', timestamp_s=0.2, width_m=1.9507200000000002, length_m=5.1816, transform=Transform(position=Vector3(x=-254.5034873598053, y=-2.1795776595934315, z=-0.04786643758416176), orientation=Vector2(x=0.9995881382673314, y=-0.028697627693774014)), speed=49.91286718178083, debug=False),\n",
       " RealTrafficVehicle(id=2138, type_id='vehicle.nissan.patrol', timestamp_s=0.2, width_m=1.9507200000000002, length_m=4.4196, transform=Transform(position=Vector3(x=-273.18945035023137, y=-5.706008010908894, z=0.009825591929256916), orientation=Vector2(x=0.9999976757396061, y=-0.0021560416011127768)), speed=49.50358928733548, debug=False),\n",
       " RealTrafficVehicle(id=2139, type_id='vehicle.mini.cooperst', timestamp_s=0.2, width_m=1.9812, length_m=3.81, transform=Transform(position=Vector3(x=-253.6365576026442, y=0.9993893150872891, z=0.041275788098573685), orientation=Vector2(x=0.9999474743720673, y=0.0102493169003518)), speed=50.00828123952801, debug=False),\n",
       " RealTrafficVehicle(id=2140, type_id='vehicle.seat.leon', timestamp_s=0.2, width_m=1.7983200000000001, length_m=4.2672, transform=Transform(position=Vector3(x=-215.60282713672316, y=-8.749977983007081, z=-0.006410293281078339), orientation=Vector2(x=0.9994577999424432, y=0.03292576702540431)), speed=15.851605233482543, debug=False),\n",
       " RealTrafficVehicle(id=2142, type_id='vehicle.seat.leon', timestamp_s=0.2, width_m=1.7983200000000001, length_m=4.4196, transform=Transform(position=Vector3(x=-266.2193220060238, y=1.1210697290836973, z=-0.006410293281078339), orientation=Vector2(x=0.9999786585044758, y=0.006533187245823665)), speed=51.43156741509526, debug=False),\n",
       " RealTrafficVehicle(id=2144, type_id='vehicle.audi.etron', timestamp_s=0.2, width_m=1.9507200000000002, length_m=4.8768, transform=Transform(position=Vector3(x=-223.3053380547747, y=-9.593143468113096, z=-0.050091702491045), orientation=Vector2(x=0.9997706598166046, y=0.02141559641642097)), speed=22.402830446203023, debug=False),\n",
       " RealTrafficVehicle(id=2148, type_id='vehicle.audi.tt', timestamp_s=0.2, width_m=1.9507200000000002, length_m=4.2672, transform=Transform(position=Vector3(x=-289.2429967735935, y=-5.392688338824134, z=-0.005904807709157467), orientation=Vector2(x=0.9993564676186799, y=0.03586991258303113)), speed=51.16022632358771, debug=False),\n",
       " RealTrafficVehicle(id=2150, type_id='vehicle.carlamotors.carlacola', timestamp_s=0.2, width_m=2.5908, length_m=6.096, transform=Transform(position=Vector3(x=-283.53034086595875, y=-2.2662806847198502, z=-0.00285758962854743), orientation=Vector2(x=0.9999680819800792, y=0.007989682163989266)), speed=61.56299574352623, debug=False),\n",
       " RealTrafficVehicle(id=2156, type_id='vehicle.seat.leon', timestamp_s=0.2, width_m=1.7983200000000001, length_m=4.2672, transform=Transform(position=Vector3(x=-242.2265220756841, y=-9.466728058617418, z=-0.006410293281078339), orientation=Vector2(x=0.9997714711089244, y=0.02137768829170117)), speed=29.65640326214253, debug=False),\n",
       " RealTrafficVehicle(id=2162, type_id='vehicle.bmw.grandtourer', timestamp_s=0.2, width_m=2.4079200000000003, length_m=4.8768, transform=Transform(position=Vector3(x=-266.9923837056217, y=-9.467771948147744, z=0.0727667585015297), orientation=Vector2(x=0.9999971217083922, y=-0.0023992863378712115)), speed=19.77613995169933, debug=False),\n",
       " RealTrafficVehicle(id=2170, type_id='vehicle.mercedes-benz.coupe', timestamp_s=0.2, width_m=2.25552, length_m=5.3340000000000005, transform=Transform(position=Vector3(x=-281.9611747324793, y=-9.258250472610504, z=0.12632092833518982), orientation=Vector2(x=0.9998089132926349, y=-0.01954832219400233)), speed=34.11775818172386, debug=False),\n",
       " RealTrafficVehicle(id=1931, type_id='vehicle.bmw.isetta', timestamp_s=0.2, width_m=1.2192, length_m=2.8956, transform=Transform(position=Vector3(x=267.629358597672, y=-8.969946227385591, z=0.002044105436652899), orientation=Vector2(x=0.9991963081340595, y=0.040084134158862784)), speed=57.42234474929216, debug=False),\n",
       " RealTrafficVehicle(id=1937, type_id='vehicle.seat.leon', timestamp_s=0.2, width_m=1.7983200000000001, length_m=4.2672, transform=Transform(position=Vector3(x=249.3898705428895, y=-8.37342186469721, z=-0.006410293281078339), orientation=Vector2(x=0.9997947280591282, y=0.020260842657052854)), speed=60.55988263748411, debug=False),\n",
       " RealTrafficVehicle(id=1945, type_id='vehicle.mustang.mustang', timestamp_s=0.2, width_m=1.7983200000000001, length_m=5.0292, transform=Transform(position=Vector3(x=229.8170164000968, y=-8.788371511460012, z=-0.007357253693044186), orientation=Vector2(x=0.9997351694775343, y=-0.02301284227829594)), speed=66.95774179194602, debug=False),\n",
       " RealTrafficVehicle(id=1955, type_id='vehicle.nissan.micra', timestamp_s=0.2, width_m=1.8288000000000002, length_m=2.8956, transform=Transform(position=Vector3(x=192.4843396862512, y=-9.318599268268832, z=-0.01624458283185959), orientation=Vector2(x=0.9999413537527247, y=0.010830007163806483)), speed=88.69047210549378, debug=False),\n",
       " RealTrafficVehicle(id=1961, type_id='vehicle.audi.a2', timestamp_s=0.2, width_m=1.524, length_m=3.6576000000000004, transform=Transform(position=Vector3(x=253.4299150117392, y=-4.800259767666673, z=-0.010922241024672985), orientation=Vector2(x=0.9993280727176473, y=0.036652463470175596)), speed=57.74848773985687, debug=False),\n",
       " RealTrafficVehicle(id=1964, type_id='vehicle.audi.a2', timestamp_s=0.2, width_m=1.6764000000000001, length_m=3.6576000000000004, transform=Transform(position=Vector3(x=162.29175010215312, y=-8.921194769939131, z=-0.010922241024672985), orientation=Vector2(x=0.9997122176679585, y=0.023989202683964275)), speed=93.33850410956589, debug=False),\n",
       " RealTrafficVehicle(id=1967, type_id='vehicle.audi.a2', timestamp_s=0.2, width_m=1.6764000000000001, length_m=3.048, transform=Transform(position=Vector3(x=235.1797828151594, y=-4.991299045418078, z=-0.010922241024672985), orientation=Vector2(x=0.999928962233318, y=0.011919332489690567)), speed=67.13457844229679, debug=False),\n",
       " RealTrafficVehicle(id=1968, type_id='vehicle.bmw.isetta', timestamp_s=0.2, width_m=1.3716000000000002, length_m=3.048, transform=Transform(position=Vector3(x=248.0769017893171, y=-1.3455989423646324, z=0.002044105436652899), orientation=Vector2(x=0.9999307737554741, y=-0.011766379935174405)), speed=43.6912437069778, debug=False),\n",
       " RealTrafficVehicle(id=1969, type_id='vehicle.bmw.isetta', timestamp_s=0.2, width_m=1.524, length_m=2.7432000000000003, transform=Transform(position=Vector3(x=258.1278285529903, y=1.916528061093862, z=0.002044105436652899), orientation=Vector2(x=0.9999914402335053, y=0.004137566884026461)), speed=77.52991909220921, debug=False),\n",
       " RealTrafficVehicle(id=1970, type_id='vehicle.mini.cooperst', timestamp_s=0.2, width_m=1.9812, length_m=3.3528000000000002, transform=Transform(position=Vector3(x=133.2601257586515, y=-8.677928628454922, z=0.041275788098573685), orientation=Vector2(x=0.999963128392775, y=-0.008587307781513566)), speed=89.16569110288175, debug=False),\n",
       " RealTrafficVehicle(id=1971, type_id='vehicle.mustang.mustang', timestamp_s=0.2, width_m=1.6459200000000003, length_m=4.8768, transform=Transform(position=Vector3(x=230.46142493875806, y=-1.429123108185901, z=-0.007357253693044186), orientation=Vector2(x=0.9998129646269184, y=0.019340004238173145)), speed=58.39017711166887, debug=False),\n",
       " RealTrafficVehicle(id=1972, type_id='vehicle.mustang.mustang', timestamp_s=0.2, width_m=1.6459200000000003, length_m=5.1816, transform=Transform(position=Vector3(x=257.87667297098676, y=5.828303589600399, z=-0.007357253693044186), orientation=Vector2(x=0.9999996150254782, y=-0.0008774673187596542)), speed=81.38327869110036, debug=False),\n",
       " RealTrafficVehicle(id=1973, type_id='vehicle.audi.a2', timestamp_s=0.2, width_m=1.6764000000000001, length_m=3.6576000000000004, transform=Transform(position=Vector3(x=194.19979534650813, y=-5.198840750788823, z=-0.010922241024672985), orientation=Vector2(x=0.9998516841956484, y=0.01722235788518173)), speed=101.15852216289414, debug=False),\n",
       " RealTrafficVehicle(id=1975, type_id='vehicle.audi.a2', timestamp_s=0.2, width_m=1.524, length_m=3.5052000000000003, transform=Transform(position=Vector3(x=210.4189293440897, y=-1.5763332709532967, z=-0.010922241024672985), orientation=Vector2(x=0.9999733410443112, y=0.007301862822427744)), speed=72.95623520395473, debug=False),\n",
       " RealTrafficVehicle(id=1976, type_id='vehicle.mustang.mustang', timestamp_s=0.2, width_m=1.4935200000000002, length_m=5.0292, transform=Transform(position=Vector3(x=247.7159586297193, y=5.092030270367892, z=-0.007357253693044186), orientation=Vector2(x=0.9995271092069431, y=0.030749926185466167)), speed=90.41643529064397, debug=False),\n",
       " RealTrafficVehicle(id=1977, type_id='vehicle.seat.leon', timestamp_s=0.2, width_m=1.7983200000000001, length_m=4.1148, transform=Transform(position=Vector3(x=235.54074036216727, y=1.4944365120443137, z=-0.006410293281078339), orientation=Vector2(x=0.999863608061451, y=-0.01651560699269182)), speed=69.35755427294916, debug=False),\n",
       " RealTrafficVehicle(id=1978, type_id='vehicle.audi.a2', timestamp_s=0.2, width_m=1.524, length_m=3.6576000000000004, transform=Transform(position=Vector3(x=106.34160644603222, y=-8.925112918817996, z=-0.010922241024672985), orientation=Vector2(x=0.9998788819577099, y=0.015563464106681434)), speed=96.6303380071562, debug=False),\n",
       " RealTrafficVehicle(id=1979, type_id='vehicle.audi.a2', timestamp_s=0.2, width_m=1.6764000000000001, length_m=3.2004, transform=Transform(position=Vector3(x=210.07338618430833, y=1.5283101163782085, z=-0.010922241024672985), orientation=Vector2(x=0.9999755797990088, y=0.006988548178010255)), speed=61.501903188774435, debug=False),\n",
       " RealTrafficVehicle(id=1980, type_id='vehicle.seat.leon', timestamp_s=0.2, width_m=1.6459200000000003, length_m=4.1148, transform=Transform(position=Vector3(x=160.92270764938002, y=-5.527657242412869, z=-0.006410293281078339), orientation=Vector2(x=0.9999993926332704, y=0.0011021493049264458)), speed=94.37404576746555, debug=False),\n",
       " RealTrafficVehicle(id=1981, type_id='vehicle.mustang.mustang', timestamp_s=0.2, width_m=1.6459200000000003, length_m=4.8768, transform=Transform(position=Vector3(x=190.21083903923844, y=1.50265826121551, z=-0.007357253693044186), orientation=Vector2(x=0.999996285573609, y=-0.002725589658240063)), speed=63.335368765888006, debug=False),\n",
       " RealTrafficVehicle(id=1982, type_id='vehicle.mustang.mustang', timestamp_s=0.2, width_m=1.4935200000000002, length_m=5.1816, transform=Transform(position=Vector3(x=178.28594912412785, y=-1.6639756714767522, z=-0.007357253693044186), orientation=Vector2(x=0.9999996766006708, y=0.0008042378713640292)), speed=85.2978956443607, debug=False),\n",
       " RealTrafficVehicle(id=1983, type_id='vehicle.nissan.micra', timestamp_s=0.2, width_m=1.8288000000000002, length_m=3.5052000000000003, transform=Transform(position=Vector3(x=219.78786356148336, y=5.082723180402568, z=-0.01624458283185959), orientation=Vector2(x=0.9997945399695892, y=-0.02027012202719825)), speed=82.97273301695424, debug=False),\n",
       " RealTrafficVehicle(id=1984, type_id='vehicle.audi.a2', timestamp_s=0.2, width_m=1.3716000000000002, length_m=3.6576000000000004, transform=Transform(position=Vector3(x=86.47665162326884, y=-9.284318302810473, z=-0.010922241024672985), orientation=Vector2(x=0.9999609399819506, y=-0.00883846765077491)), speed=94.22741231510749, debug=False),\n",
       " RealTrafficVehicle(id=1985, type_id='vehicle.mini.cooperst', timestamp_s=0.2, width_m=2.1336, length_m=3.3528000000000002, transform=Transform(position=Vector3(x=133.01699033512315, y=-5.271722470695636, z=0.041275788098573685), orientation=Vector2(x=0.9999469953871191, y=-0.010295941738028277)), speed=93.58547969883632, debug=False),\n",
       " RealTrafficVehicle(id=1987, type_id='vehicle.seat.leon', timestamp_s=0.2, width_m=1.7983200000000001, length_m=4.2672, transform=Transform(position=Vector3(x=181.67089329684708, y=4.347293271536825, z=-0.006410293281078339), orientation=Vector2(x=0.9999999681533327, y=-0.00025237538216621073)), speed=88.54951029442425, debug=False),\n",
       " RealTrafficVehicle(id=1988, type_id='vehicle.bmw.isetta', timestamp_s=0.2, width_m=1.6764000000000001, length_m=2.7432000000000003, transform=Transform(position=Vector3(x=164.85333832469806, y=-2.4839222838176918, z=0.002044105436652899), orientation=Vector2(x=0.9998140528862147, y=0.019283662806673853)), speed=85.56684850853829, debug=False),\n",
       " RealTrafficVehicle(id=1989, type_id='vehicle.audi.a2', timestamp_s=0.2, width_m=1.3716000000000002, length_m=3.81, transform=Transform(position=Vector3(x=67.0810482553028, y=-8.968538224440989, z=-0.010922241024672985), orientation=Vector2(x=0.9999997118797794, y=-0.0007591049717928071)), speed=93.6886272518856, debug=False),\n",
       " RealTrafficVehicle(id=1991, type_id='vehicle.mustang.mustang', timestamp_s=0.2, width_m=1.6459200000000003, length_m=4.8768, transform=Transform(position=Vector3(x=172.31657809413718, y=0.6208516389191324, z=-0.007357253693044186), orientation=Vector2(x=0.9999974598168565, y=0.002253965357853072)), speed=80.15370653681224, debug=False),\n",
       " RealTrafficVehicle(id=1992, type_id='vehicle.audi.a2', timestamp_s=0.2, width_m=1.6764000000000001, length_m=3.048, transform=Transform(position=Vector3(x=113.07264301102276, y=-5.438777185442093, z=-0.010922241024672985), orientation=Vector2(x=0.9998803088604613, y=0.015471520710921265)), speed=100.4411506941947, debug=False),\n",
       " RealTrafficVehicle(id=1995, type_id='vehicle.chevrolet.impala', timestamp_s=0.2, width_m=1.6459200000000003, length_m=6.8580000000000005, transform=Transform(position=Vector3(x=135.66928159899467, y=-1.7223272572968817, z=-0.04786643758416176), orientation=Vector2(x=0.9999492003595603, y=-0.010079518851419736)), speed=94.92580396971408, debug=False),\n",
       " RealTrafficVehicle(id=1996, type_id='vehicle.mustang.mustang', timestamp_s=0.2, width_m=1.6459200000000003, length_m=5.1816, transform=Transform(position=Vector3(x=147.28904317171956, y=4.345634060548889, z=-0.007357253693044186), orientation=Vector2(x=0.9998514160533141, y=0.017237917977023513)), speed=99.61356064047943, debug=False),\n",
       " RealTrafficVehicle(id=1998, type_id='vehicle.audi.a2', timestamp_s=0.2, width_m=1.6764000000000001, length_m=3.2004, transform=Transform(position=Vector3(x=86.19531772263501, y=-5.303189190409134, z=-0.010922241024672985), orientation=Vector2(x=0.9999998928519626, y=-0.00046292122803823644)), speed=94.14861112840316, debug=False),\n",
       " RealTrafficVehicle(id=1999, type_id='vehicle.seat.leon', timestamp_s=0.2, width_m=1.6459200000000003, length_m=4.2672, transform=Transform(position=Vector3(x=113.15492722312717, y=-1.431193374908405, z=-0.006410293281078339), orientation=Vector2(x=0.9999979076856202, y=0.00204563544690365)), speed=101.8132983891998, debug=False),\n",
       " RealTrafficVehicle(id=2000, type_id='vehicle.chevrolet.impala', timestamp_s=0.2, width_m=1.6459200000000003, length_m=5.3340000000000005, transform=Transform(position=Vector3(x=125.00313511820933, y=1.140458233261247, z=-0.04786643758416176), orientation=Vector2(x=0.9999961537348023, y=-0.002773538462254532)), speed=99.72435385655949, debug=False),\n",
       " RealTrafficVehicle(id=2001, type_id='vehicle.mustang.mustang', timestamp_s=0.2, width_m=1.9507200000000002, length_m=4.7244, transform=Transform(position=Vector3(x=64.19188477854283, y=-5.688558003161568, z=-0.007357253693044186), orientation=Vector2(x=0.9999999894022198, y=-0.00014558695086816747)), speed=90.43432571726949, debug=False),\n",
       " RealTrafficVehicle(id=2003, type_id='vehicle.audi.tt', timestamp_s=0.2, width_m=1.9507200000000002, length_m=4.1148, transform=Transform(position=Vector3(x=87.22567805673248, y=-1.717011718111261, z=-0.005904807709157467), orientation=Vector2(x=0.9999900922816105, y=0.004451442307402957)), speed=108.65618075349376, debug=False),\n",
       " RealTrafficVehicle(id=2006, type_id='vehicle.bmw.isetta', timestamp_s=0.2, width_m=1.2192, length_m=2.5908, transform=Transform(position=Vector3(x=121.93168547090266, y=4.960358232434206, z=0.002044105436652899), orientation=Vector2(x=0.9997786854309522, y=-0.021037589166944724)), speed=99.87523958813722, debug=False),\n",
       " RealTrafficVehicle(id=2007, type_id='vehicle.audi.a2', timestamp_s=0.2, width_m=1.524, length_m=3.5052000000000003, transform=Transform(position=Vector3(x=70.00889804956739, y=5.045136478207447, z=-0.010922241024672985), orientation=Vector2(x=0.9999986615968461, y=-0.0016360942871284454)), speed=89.39054567266564, debug=False),\n",
       " RealTrafficVehicle(id=2008, type_id='vehicle.audi.a2', timestamp_s=0.2, width_m=1.6764000000000001, length_m=2.8956, transform=Transform(position=Vector3(x=40.24251733730164, y=-5.0318977092770965, z=-0.010922241024672985), orientation=Vector2(x=0.9995296750177625, y=0.03066641092280169)), speed=96.28826426304364, debug=False),\n",
       " RealTrafficVehicle(id=2010, type_id='vehicle.citroen.c3', timestamp_s=0.2, width_m=1.6459200000000003, length_m=3.9624, transform=Transform(position=Vector3(x=102.13604561090501, y=5.319395967087678, z=0.03734729811549187), orientation=Vector2(x=0.9999856449349227, y=-0.005358164245967422)), speed=100.8536718233059, debug=False),\n",
       " RealTrafficVehicle(id=2015, type_id='vehicle.chevrolet.impala', timestamp_s=0.2, width_m=1.7373600000000002, length_m=22.402800000000003, transform=Transform(position=Vector3(x=72.7953647901055, y=2.201628068417119, z=-0.04786643758416176), orientation=Vector2(x=0.9999927785588081, y=-0.003800372381050046)), speed=96.11055898154544, debug=False),\n",
       " RealTrafficVehicle(id=2016, type_id='vehicle.seat.leon', timestamp_s=0.2, width_m=0.88392, length_m=4.1148, transform=Transform(position=Vector3(x=39.87138503777366, y=5.011280870995985, z=-0.006410293281078339), orientation=Vector2(x=0.9999935709359229, y=0.0035858174550932264)), speed=87.48244610873553, debug=False),\n",
       " RealTrafficVehicle(id=2019, type_id='vehicle.mustang.mustang', timestamp_s=0.2, width_m=1.6459200000000003, length_m=5.0292, transform=Transform(position=Vector3(x=8.37171412144881, y=-5.797518146949917, z=-0.007357253693044186), orientation=Vector2(x=0.9999731442952311, y=0.007328757623830661)), speed=82.14860924823385, debug=False),\n",
       " RealTrafficVehicle(id=2031, type_id='vehicle.bmw.grandtourer', timestamp_s=0.2, width_m=2.4079200000000003, length_m=4.2672, transform=Transform(position=Vector3(x=46.825004559320455, y=-2.432732785880579, z=0.0727667585015297), orientation=Vector2(x=0.9999944443548489, y=0.003333355582172774)), speed=108.73874551915421, debug=False),\n",
       " RealTrafficVehicle(id=2032, type_id='vehicle.chevrolet.impala', timestamp_s=0.2, width_m=2.25552, length_m=5.486400000000001, transform=Transform(position=Vector3(x=7.907902351084741, y=-1.6792171989398605, z=-0.04786643758416176), orientation=Vector2(x=0.9999918588413296, y=0.004035127143281809)), speed=100.61974738061657, debug=False),\n",
       " RealTrafficVehicle(id=2033, type_id='vehicle.seat.leon', timestamp_s=0.2, width_m=1.7983200000000001, length_m=4.4196, transform=Transform(position=Vector3(x=1.5769084911966058, y=-9.074886716865056, z=-0.006410293281078339), orientation=Vector2(x=0.9998167272872273, y=-0.01914449886150807)), speed=100.9168562648776, debug=False),\n",
       " RealTrafficVehicle(id=2034, type_id='vehicle.mustang.mustang', timestamp_s=0.2, width_m=1.7983200000000001, length_m=4.8768, transform=Transform(position=Vector3(x=12.913775273725443, y=4.6279440577276585, z=-0.007357253693044186), orientation=Vector2(x=0.9999003026352787, y=0.014120367908732688)), speed=89.88970396699483, debug=False),\n",
       " RealTrafficVehicle(id=2035, type_id='vehicle.lincoln.mkz2017', timestamp_s=0.2, width_m=2.10312, length_m=4.8768, transform=Transform(position=Vector3(x=25.60535560363604, y=-9.518948861484438, z=-0.011359786614775658), orientation=Vector2(x=0.9993303525885374, y=0.0365902500028289)), speed=94.01385389118371, debug=False),\n",
       " RealTrafficVehicle(id=2036, type_id='vehicle.lincoln.mkz2017', timestamp_s=0.2, width_m=2.10312, length_m=4.7244, transform=Transform(position=Vector3(x=31.87106280633668, y=1.338743381983766, z=-0.011359786614775658), orientation=Vector2(x=0.9999382495516976, y=-0.011112924164545386)), speed=90.36345932758232, debug=False),\n",
       " RealTrafficVehicle(id=2037, type_id='vehicle.audi.tt', timestamp_s=0.2, width_m=2.10312, length_m=4.2672, transform=Transform(position=Vector3(x=-3.0012714151636217, y=-5.732595003873637, z=-0.005904807709157467), orientation=Vector2(x=0.9999827056184466, y=-0.005881195797721715)), speed=80.20629526988131, debug=False),\n",
       " RealTrafficVehicle(id=2039, type_id='vehicle.mini.cooperst', timestamp_s=0.2, width_m=1.9812, length_m=3.5052000000000003, transform=Transform(position=Vector3(x=-3.6291968483233266, y=4.750461686403933, z=0.041275788098573685), orientation=Vector2(x=0.9999996330786965, y=0.0008566460601403464)), speed=82.92935551626478, debug=False),\n",
       " RealTrafficVehicle(id=2041, type_id='vehicle.volkswagen.t2', timestamp_s=0.2, width_m=2.10312, length_m=4.572, transform=Transform(position=Vector3(x=-21.67517469050923, y=-8.729936418319815, z=-0.011650161817669868), orientation=Vector2(x=0.9999997745648606, y=0.000671468709753281)), speed=86.39187243862675, debug=False),\n",
       " RealTrafficVehicle(id=2042, type_id='vehicle.bmw.grandtourer', timestamp_s=0.2, width_m=2.4079200000000003, length_m=4.8768, transform=Transform(position=Vector3(x=-23.175619519711145, y=-1.7155441831344722, z=0.0727667585015297), orientation=Vector2(x=0.9999994946048035, y=0.0010053805933781068)), speed=89.15717542871657, debug=False),\n",
       " RealTrafficVehicle(id=2043, type_id='vehicle.carlamotors.carlacola', timestamp_s=0.2, width_m=2.5908, length_m=6.096, transform=Transform(position=Vector3(x=3.83872692855814, y=1.5316106638423324, z=-0.00285758962854743), orientation=Vector2(x=0.9999800496156597, y=0.006316674019040045)), speed=85.12031150062455, debug=False),\n",
       " RealTrafficVehicle(id=2044, type_id='vehicle.bmw.grandtourer', timestamp_s=0.2, width_m=2.25552, length_m=4.8768, transform=Transform(position=Vector3(x=-15.697816932253177, y=4.758837916389043, z=0.0727667585015297), orientation=Vector2(x=0.9999999888152622, y=-0.0001495642855702548)), speed=79.06742748445713, debug=False),\n",
       " RealTrafficVehicle(id=2045, type_id='vehicle.mustang.mustang', timestamp_s=0.2, width_m=1.6459200000000003, length_m=4.572, transform=Transform(position=Vector3(x=-20.87767054231204, y=1.1519250273259394, z=-0.007357253693044186), orientation=Vector2(x=0.9982294211711725, y=-0.05948128031797804)), speed=87.40331540261786, debug=False),\n",
       " RealTrafficVehicle(id=2046, type_id='vehicle.mustang.mustang', timestamp_s=0.2, width_m=1.6459200000000003, length_m=4.7244, transform=Transform(position=Vector3(x=-23.1160535009439, y=-5.063364314907768, z=-0.007357253693044186), orientation=Vector2(x=0.9985838254896737, y=0.05320097245736061)), speed=60.10402753928844, debug=False)]"
      ]
     },
     "execution_count": 15,
     "metadata": {},
     "output_type": "execute_result"
    }
   ],
   "source": [
    "vehicles"
   ]
  },
  {
   "cell_type": "code",
   "execution_count": null,
   "metadata": {},
   "outputs": [],
   "source": [
    "l3 = [x.id for x in vehicles]"
   ]
  },
  {
   "cell_type": "code",
   "execution_count": null,
   "metadata": {},
   "outputs": [],
   "source": [
    "scenario"
   ]
  },
  {
   "cell_type": "code",
   "execution_count": null,
   "metadata": {},
   "outputs": [],
   "source": [
    "len(d.keys())"
   ]
  },
  {
   "cell_type": "code",
   "execution_count": null,
   "metadata": {},
   "outputs": [],
   "source": [
    "len(l3)"
   ]
  },
  {
   "cell_type": "code",
   "execution_count": 21,
   "metadata": {},
   "outputs": [
    {
     "data": {
      "text/plain": [
       "1569"
      ]
     },
     "execution_count": 21,
     "metadata": {},
     "output_type": "execute_result"
    }
   ],
   "source": [
    "world.tick()"
   ]
  },
  {
   "cell_type": "code",
   "execution_count": null,
   "metadata": {},
   "outputs": [],
   "source": [
    "#scenario.step(ego_vehicle)"
   ]
  },
  {
   "cell_type": "code",
   "execution_count": 22,
   "metadata": {},
   "outputs": [],
   "source": [
    "d = scenario._ngsim_vehicles_in_carla._vehicle_by_vehicle_id"
   ]
  },
  {
   "cell_type": "code",
   "execution_count": 23,
   "metadata": {},
   "outputs": [],
   "source": [
    "dist = {}\n",
    "for i in d:\n",
    "    c = ego_vehicle.get_location().distance(d[i].get_location())\n",
    "    dist[i] = c"
   ]
  },
  {
   "cell_type": "code",
   "execution_count": 24,
   "metadata": {},
   "outputs": [],
   "source": [
    "updated_dist = dict(sorted(dist.items(), key=lambda item: item[1]))"
   ]
  },
  {
   "cell_type": "code",
   "execution_count": 25,
   "metadata": {},
   "outputs": [
    {
     "data": {
      "text/plain": [
       "[2052, 2053, 2054, 2050]"
      ]
     },
     "execution_count": 25,
     "metadata": {},
     "output_type": "execute_result"
    }
   ],
   "source": [
    "list(updated_dist.keys())[:4]"
   ]
  },
  {
   "cell_type": "code",
   "execution_count": 26,
   "metadata": {},
   "outputs": [
    {
     "data": {
      "text/plain": [
       "{2052: 5.052845478057861,\n",
       " 2053: 6.285128593444824,\n",
       " 2054: 7.057491779327393,\n",
       " 2050: 11.527693748474121,\n",
       " 2055: 21.442785263061523,\n",
       " 2042: 25.643177032470703,\n",
       " 2057: 25.651817321777344,\n",
       " 2046: 26.652050018310547,\n",
       " 2045: 27.87602424621582,\n",
       " 2041: 28.615638732910156,\n",
       " 2069: 29.317975997924805,\n",
       " 2061: 31.360370635986328,\n",
       " 2060: 32.813575744628906,\n",
       " 2044: 33.462398529052734,\n",
       " 2059: 37.85524368286133,\n",
       " 2048: 38.06349563598633,\n",
       " 2065: 41.93913650512695,\n",
       " 2067: 43.2357292175293,\n",
       " 2068: 43.436859130859375,\n",
       " 2039: 45.41132354736328,\n",
       " 2037: 46.29105758666992,\n",
       " 2071: 49.79523849487305,\n",
       " 2033: 51.01645278930664,\n",
       " 2043: 52.65338134765625,\n",
       " 2073: 55.018184661865234,\n",
       " 2032: 56.49943542480469,\n",
       " 2074: 57.239009857177734,\n",
       " 2019: 57.55589294433594,\n",
       " 2072: 57.64030456542969,\n",
       " 2034: 61.78107833862305,\n",
       " 2082: 64.46503448486328,\n",
       " 2084: 66.14724731445312,\n",
       " 2079: 69.08745574951172,\n",
       " 2086: 72.88870239257812,\n",
       " 2035: 74.93132781982422,\n",
       " 2080: 77.68678283691406,\n",
       " 2085: 78.8862075805664,\n",
       " 2036: 80.59092712402344,\n",
       " 2088: 82.24632263183594,\n",
       " 2093: 84.51404571533203,\n",
       " 2089: 87.91792297363281,\n",
       " 2016: 88.7501220703125,\n",
       " 2008: 89.037841796875,\n",
       " 2090: 90.29183959960938,\n",
       " 2092: 91.1456527709961,\n",
       " 2031: 95.29478454589844,\n",
       " 2103: 98.85292053222656,\n",
       " 2102: 105.62372589111328,\n",
       " 2096: 106.89198303222656,\n",
       " 2098: 107.57252502441406,\n",
       " 2105: 111.15299987792969,\n",
       " 2001: 113.06283569335938,\n",
       " 1989: 116.11166381835938,\n",
       " 2007: 118.8228530883789,\n",
       " 2015: 121.38488006591797,\n",
       " 2106: 125.20201110839844,\n",
       " 2111: 125.9595947265625,\n",
       " 2112: 126.4357681274414,\n",
       " 2108: 129.85458374023438,\n",
       " 2104: 134.1325225830078,\n",
       " 1998: 134.99029541015625,\n",
       " 1984: 135.48440551757812,\n",
       " 2003: 135.66879272460938,\n",
       " 2118: 137.76719665527344,\n",
       " 2099: 140.06178283691406,\n",
       " 2119: 144.2113494873047,\n",
       " 2115: 148.0286407470703,\n",
       " 2130: 149.21286010742188,\n",
       " 2010: 150.76332092285156,\n",
       " 2126: 154.95950317382812,\n",
       " 1978: 155.22998046875,\n",
       " 2134: 157.5791015625,\n",
       " 2107: 158.46170043945312,\n",
       " 1999: 161.6935272216797,\n",
       " 1992: 161.73135375976562,\n",
       " 2124: 162.015869140625,\n",
       " 2140: 166.0153350830078,\n",
       " 2131: 167.24819946289062,\n",
       " 2006: 170.5598907470703,\n",
       " 2000: 173.5668182373047,\n",
       " 2144: 173.8506622314453,\n",
       " 2116: 175.52906799316406,\n",
       " 2127: 178.1149139404297,\n",
       " 2135: 178.76980590820312,\n",
       " 1985: 181.77398681640625,\n",
       " 1970: 182.21533203125,\n",
       " 2129: 184.21343994140625,\n",
       " 1995: 184.31045532226562,\n",
       " 2156: 192.83767700195312,\n",
       " 2133: 193.02792358398438,\n",
       " 1996: 195.89501953125,\n",
       " 2125: 197.0640106201172,\n",
       " 2139: 204.31568908691406,\n",
       " 2136: 205.185546875,\n",
       " 2132: 208.76480102539062,\n",
       " 1980: 209.64926147460938,\n",
       " 1964: 211.16444396972656,\n",
       " 1988: 213.65423583984375,\n",
       " 2128: 215.65281677246094,\n",
       " 2142: 216.90113830566406,\n",
       " 2162: 217.42221069335938,\n",
       " 1991: 221.1739044189453,\n",
       " 2138: 223.9382781982422,\n",
       " 1982: 227.07334899902344,\n",
       " 1987: 230.43832397460938,\n",
       " 2170: 232.5896759033203,\n",
       " 2150: 234.39193725585938,\n",
       " 1981: 239.33370971679688,\n",
       " 2148: 240.0045928955078,\n",
       " 1955: 241.42202758789062,\n",
       " 1973: 242.81179809570312,\n",
       " 1979: 259.218994140625,\n",
       " 1975: 259.3885803222656,\n",
       " 1983: 268.6485900878906,\n",
       " 1945: 279.0310974121094,\n",
       " 1971: 279.6552429199219,\n",
       " 1967: 284.2934875488281,\n",
       " 1977: 284.5782775878906,\n",
       " 1976: 296.4464416503906,\n",
       " 1968: 297.5123291015625,\n",
       " 1937: 298.688720703125,\n",
       " 1961: 302.68792724609375,\n",
       " 1972: 306.77447509765625,\n",
       " 1969: 307.0396423339844,\n",
       " 1931: 316.99603271484375,\n",
       " 1966: 319.02423095703125}"
      ]
     },
     "execution_count": 26,
     "metadata": {},
     "output_type": "execute_result"
    }
   ],
   "source": [
    "updated_dist"
   ]
  },
  {
   "cell_type": "code",
   "execution_count": 29,
   "metadata": {},
   "outputs": [],
   "source": [
    " kip = dict((k, v) for k, v in updated_dist.items() if v <= 10)"
   ]
  },
  {
   "cell_type": "code",
   "execution_count": 30,
   "metadata": {},
   "outputs": [
    {
     "data": {
      "text/plain": [
       "{2052: 5.052845478057861, 2053: 6.285128593444824, 2054: 7.057491779327393}"
      ]
     },
     "execution_count": 30,
     "metadata": {},
     "output_type": "execute_result"
    }
   ],
   "source": [
    "kip"
   ]
  },
  {
   "cell_type": "code",
   "execution_count": 35,
   "metadata": {},
   "outputs": [
    {
     "data": {
      "text/plain": [
       "(-52.67055130004883, 4.793801784515381, -0.011367186903953552)"
      ]
     },
     "execution_count": 35,
     "metadata": {},
     "output_type": "execute_result"
    }
   ],
   "source": [
    "d[2052].get_location().x,d[2052].get_location().y,d[2052].get_location().z"
   ]
  },
  {
   "cell_type": "code",
   "execution_count": 42,
   "metadata": {},
   "outputs": [
    {
     "data": {
      "text/plain": [
       "(-50.10076904296875, 0.44323238730430603, -0.0073437499813735485)"
      ]
     },
     "execution_count": 42,
     "metadata": {},
     "output_type": "execute_result"
    }
   ],
   "source": [
    "ego_vehicle.get_location().x,ego_vehicle.get_location().y,ego_vehicle.get_location().z"
   ]
  },
  {
   "cell_type": "code",
   "execution_count": 43,
   "metadata": {},
   "outputs": [
    {
     "data": {
      "text/plain": [
       "(-52.03022384643555, -5.53840970993042, -0.0073437499813735485)"
      ]
     },
     "execution_count": 43,
     "metadata": {},
     "output_type": "execute_result"
    }
   ],
   "source": [
    "d[2053].get_location().x,d[2053].get_location().y,d[2053].get_location().z"
   ]
  },
  {
   "cell_type": "code",
   "execution_count": 44,
   "metadata": {},
   "outputs": [
    {
     "data": {
      "text/plain": [
       "(-56.53384780883789, -2.458782911300659, 0.03734374791383743)"
      ]
     },
     "execution_count": 44,
     "metadata": {},
     "output_type": "execute_result"
    }
   ],
   "source": [
    "d[2054].get_location().x,d[2054].get_location().y,d[2054].get_location().z"
   ]
  },
  {
   "cell_type": "code",
   "execution_count": 57,
   "metadata": {},
   "outputs": [],
   "source": [
    "limit = 40"
   ]
  },
  {
   "cell_type": "code",
   "execution_count": 58,
   "metadata": {},
   "outputs": [],
   "source": [
    "dist3 = {}\n",
    "for i in d:\n",
    "    if d[i].get_location().x <= ego_vehicle.get_location().x + limit and d[i].get_location().x >= ego_vehicle.get_location().x:\n",
    "        vector_direction = (d[i].get_location().x - ego_vehicle.get_location().x,d[i].get_location().y - ego_vehicle.get_location().y,d[i].get_location().z - ego_vehicle.get_location().z)\n",
    "        dist3[i] = [ego_vehicle.get_location().distance(d[i].get_location()),vector_direction]"
   ]
  },
  {
   "cell_type": "code",
   "execution_count": 59,
   "metadata": {},
   "outputs": [
    {
     "data": {
      "text/plain": [
       "{2048: [38.06349563598633, (38.06339359283447, -0.08852514624595642, 0.0)],\n",
       " 2050: [11.527693748474121,\n",
       "  (10.755302429199219, 4.148418098688126, -0.042734373826533556)],\n",
       " 2041: [28.615638732910156,\n",
       "  (27.105459213256836, -9.173266261816025, -0.0042968750931322575)],\n",
       " 2042: [25.643177032470703,\n",
       "  (25.55194854736328, -2.15964612364769, 0.08011718420311809)],\n",
       " 2044: [33.462398529052734,\n",
       "  (33.18251419067383, 4.318160206079483, 0.08011718420311809)],\n",
       " 2045: [27.87602424621582, (27.86549186706543, 0.7661674320697784, 0.0)],\n",
       " 2046: [26.652050018310547, (26.066490173339844, -5.556062549352646, 0.0)]}"
      ]
     },
     "execution_count": 59,
     "metadata": {},
     "output_type": "execute_result"
    }
   ],
   "source": [
    "dist3"
   ]
  },
  {
   "cell_type": "code",
   "execution_count": 65,
   "metadata": {},
   "outputs": [],
   "source": [
    "avg_throttle = 0\n",
    "avg_steer = 0\n",
    "for i in dist3:\n",
    "    avg_throttle += dist3[i][1][0]\n",
    "    avg_steer += dist3[i][1][1]\n",
    "avg_throttle = avg_throttle/len(dist3.keys())\n",
    "avg_steer *= -1"
   ]
  },
  {
   "cell_type": "code",
   "execution_count": 66,
   "metadata": {},
   "outputs": [
    {
     "data": {
      "text/plain": [
       "26.94151428767613"
      ]
     },
     "execution_count": 66,
     "metadata": {},
     "output_type": "execute_result"
    }
   ],
   "source": [
    "avg_throttle"
   ]
  },
  {
   "cell_type": "code",
   "execution_count": 67,
   "metadata": {},
   "outputs": [
    {
     "data": {
      "text/plain": [
       "7.74475434422493"
      ]
     },
     "execution_count": 67,
     "metadata": {},
     "output_type": "execute_result"
    }
   ],
   "source": [
    "avg_steer"
   ]
  },
  {
   "cell_type": "code",
   "execution_count": 53,
   "metadata": {},
   "outputs": [
    {
     "data": {
      "text/plain": [
       "-50.10076904296875"
      ]
     },
     "execution_count": 53,
     "metadata": {},
     "output_type": "execute_result"
    }
   ],
   "source": [
    "ego_vehicle.get_location().x"
   ]
  },
  {
   "cell_type": "code",
   "execution_count": 52,
   "metadata": {},
   "outputs": [
    {
     "name": "stdout",
     "output_type": "stream",
     "text": [
      "-12.037375450134277\n",
      "-39.34546661376953\n",
      "-52.67055130004883\n",
      "-52.03022384643555\n",
      "-56.53384780883789\n",
      "-69.43990325927734\n",
      "-74.92628479003906\n",
      "-86.8130874633789\n",
      "-82.7774658203125\n",
      "-81.44981384277344\n",
      "-91.60293579101562\n",
      "-93.3343505859375\n",
      "-93.18397521972656\n",
      "-79.15559387207031\n",
      "-99.89262390136719\n",
      "-107.70559692382812\n",
      "-104.15877532958984\n",
      "-106.95130920410156\n",
      "-118.42607879638672\n",
      "-127.40078735351562\n",
      "-114.49571990966797\n",
      "-116.13971710205078\n",
      "-128.75149536132812\n",
      "-122.98944854736328\n",
      "-132.24571228027344\n",
      "-137.97032165527344\n",
      "-140.17066955566406\n",
      "-140.740234375\n",
      "-134.61410522460938\n",
      "-156.82888793945312\n",
      "-157.58412170410156\n",
      "-189.88401794433594\n",
      "-155.7015838623047\n",
      "-148.94961547851562\n",
      "-184.16966247558594\n",
      "-160.96627807617188\n",
      "-175.1715850830078\n",
      "-208.48304748535156\n",
      "-179.9329833984375\n",
      "-175.72157287597656\n",
      "-176.5337677001953\n",
      "-198.01028442382812\n",
      "-225.58587646484375\n",
      "-187.54306030273438\n",
      "-194.30702209472656\n",
      "-212.0138397216797\n",
      "-247.1220245361328\n",
      "-205.05975341796875\n",
      "-228.0970458984375\n",
      "-265.7156066894531\n",
      "-234.29286193847656\n",
      "-199.045654296875\n",
      "-217.34608459472656\n",
      "-258.7595520019531\n",
      "-243.12789916992188\n",
      "-207.40545654296875\n",
      "-228.8705596923828\n",
      "-255.27032470703125\n",
      "-273.9547424316406\n",
      "-254.41575622558594\n",
      "-215.86045837402344\n",
      "-267.0008850097656\n",
      "-223.66102600097656\n",
      "-290.0345764160156\n",
      "-284.47723388671875\n",
      "-242.6831512451172\n",
      "-267.2969970703125\n",
      "-282.48834228515625\n",
      "266.7550048828125\n",
      "248.45697021484375\n",
      "228.77813720703125\n",
      "191.12277221679688\n",
      "252.54095458984375\n",
      "160.85397338867188\n",
      "268.9132080078125\n",
      "234.14065551757812\n",
      "247.40621948242188\n",
      "256.9352722167969\n",
      "131.88690185546875\n",
      "229.5479278564453\n",
      "256.6266784667969\n",
      "192.64462280273438\n",
      "209.2799530029297\n",
      "246.30946350097656\n",
      "234.4755401611328\n",
      "104.84484100341797\n",
      "209.11595153808594\n",
      "159.46327209472656\n",
      "189.23056030273438\n",
      "176.96282958984375\n",
      "218.50732421875\n",
      "85.03538513183594\n",
      "131.58375549316406\n",
      "180.30442810058594\n",
      "163.5330047607422\n",
      "65.62908172607422\n",
      "171.07305908203125\n",
      "111.522705078125\n",
      "134.1972198486328\n",
      "145.75619506835938\n",
      "84.76705932617188\n",
      "111.58186340332031\n",
      "123.46458435058594\n",
      "62.79572296142578\n",
      "85.55067443847656\n",
      "120.39851379394531\n",
      "68.63277435302734\n",
      "38.76641082763672\n",
      "100.58338928222656\n",
      "71.27179718017578\n",
      "38.53196334838867\n",
      "7.112732410430908\n",
      "45.15039825439453\n",
      "6.358639240264893\n",
      "0.027667636051774025\n",
      "11.539772987365723\n",
      "24.15733528137207\n",
      "30.48491668701172\n",
      "-4.22141170501709\n",
      "-4.893545150756836\n",
      "-22.995309829711914\n",
      "-24.54882049560547\n",
      "2.541659355163574\n",
      "-16.918254852294922\n",
      "-22.23527717590332\n",
      "-24.034278869628906\n"
     ]
    }
   ],
   "source": [
    "for i in d:\n",
    "    print(d[i].get_location().x)"
   ]
  },
  {
   "cell_type": "code",
   "execution_count": null,
   "metadata": {},
   "outputs": [],
   "source": []
  },
  {
   "cell_type": "code",
   "execution_count": null,
   "metadata": {},
   "outputs": [],
   "source": []
  },
  {
   "cell_type": "code",
   "execution_count": null,
   "metadata": {},
   "outputs": [],
   "source": [
    "dista"
   ]
  },
  {
   "cell_type": "code",
   "execution_count": null,
   "metadata": {},
   "outputs": [],
   "source": [
    "d"
   ]
  },
  {
   "cell_type": "code",
   "execution_count": null,
   "metadata": {},
   "outputs": [],
   "source": [
    "d"
   ]
  },
  {
   "cell_type": "code",
   "execution_count": null,
   "metadata": {},
   "outputs": [],
   "source": [
    "d[ego_vehicle.id]"
   ]
  },
  {
   "cell_type": "code",
   "execution_count": null,
   "metadata": {},
   "outputs": [],
   "source": [
    "world.tick()"
   ]
  },
  {
   "cell_type": "code",
   "execution_count": null,
   "metadata": {},
   "outputs": [],
   "source": [
    "ego_vehicle.get_location().distance(d[48].get_location())"
   ]
  },
  {
   "cell_type": "code",
   "execution_count": null,
   "metadata": {},
   "outputs": [],
   "source": []
  },
  {
   "cell_type": "code",
   "execution_count": null,
   "metadata": {},
   "outputs": [],
   "source": [
    "min_d = 10000\n",
    "min_ind = -1\n",
    "for i in l1:\n",
    "    dist = ego_vehicle.get_location().distance(d[i].get_location())\n",
    "    print(dist)\n",
    "    if dist<min_d:\n",
    "        min_d = dist\n",
    "        min_ind = i"
   ]
  },
  {
   "cell_type": "code",
   "execution_count": null,
   "metadata": {},
   "outputs": [],
   "source": [
    "min_ind"
   ]
  },
  {
   "cell_type": "code",
   "execution_count": null,
   "metadata": {},
   "outputs": [],
   "source": [
    "min_d"
   ]
  },
  {
   "cell_type": "code",
   "execution_count": null,
   "metadata": {},
   "outputs": [],
   "source": [
    "d[146].get_location().z"
   ]
  },
  {
   "cell_type": "code",
   "execution_count": null,
   "metadata": {},
   "outputs": [],
   "source": [
    "ego_vehicle.get_location().z"
   ]
  },
  {
   "cell_type": "code",
   "execution_count": null,
   "metadata": {},
   "outputs": [],
   "source": [
    "d[48].get_location().z"
   ]
  },
  {
   "cell_type": "code",
   "execution_count": null,
   "metadata": {},
   "outputs": [],
   "source": [
    "(d[48].get_location() + ego_vehicle.get_location()).z"
   ]
  },
  {
   "cell_type": "code",
   "execution_count": null,
   "metadata": {},
   "outputs": [],
   "source": [
    "d[236].get_location().x"
   ]
  },
  {
   "cell_type": "code",
   "execution_count": null,
   "metadata": {},
   "outputs": [],
   "source": [
    "l1"
   ]
  },
  {
   "cell_type": "code",
   "execution_count": null,
   "metadata": {},
   "outputs": [],
   "source": [
    "list(world.get_actors())"
   ]
  },
  {
   "cell_type": "code",
   "execution_count": null,
   "metadata": {},
   "outputs": [],
   "source": [
    "ego_vehicle.get_location().z"
   ]
  },
  {
   "cell_type": "code",
   "execution_count": null,
   "metadata": {},
   "outputs": [],
   "source": []
  },
  {
   "cell_type": "code",
   "execution_count": null,
   "metadata": {},
   "outputs": [],
   "source": [
    "c  =vehicles[0].transform.position"
   ]
  },
  {
   "cell_type": "code",
   "execution_count": null,
   "metadata": {},
   "outputs": [],
   "source": [
    "c.x"
   ]
  },
  {
   "cell_type": "code",
   "execution_count": null,
   "metadata": {},
   "outputs": [],
   "source": [
    "ego_vehicle.id"
   ]
  },
  {
   "cell_type": "code",
   "execution_count": null,
   "metadata": {},
   "outputs": [],
   "source": []
  },
  {
   "cell_type": "code",
   "execution_count": null,
   "metadata": {},
   "outputs": [],
   "source": [
    "len(l3)"
   ]
  },
  {
   "cell_type": "code",
   "execution_count": null,
   "metadata": {},
   "outputs": [],
   "source": [
    "l1"
   ]
  },
  {
   "cell_type": "code",
   "execution_count": null,
   "metadata": {},
   "outputs": [],
   "source": [
    "scenario.reset(ego_vehicle)"
   ]
  },
  {
   "cell_type": "code",
   "execution_count": null,
   "metadata": {},
   "outputs": [],
   "source": []
  },
  {
   "cell_type": "code",
   "execution_count": null,
   "metadata": {},
   "outputs": [],
   "source": [
    "for i in range(len(l1)):\n",
    "    if l1[i] == l3[i]:\n",
    "        continue\n",
    "    else:\n",
    "        print(l1[i],l3[i],i)"
   ]
  },
  {
   "cell_type": "code",
   "execution_count": null,
   "metadata": {},
   "outputs": [],
   "source": []
  },
  {
   "cell_type": "code",
   "execution_count": null,
   "metadata": {},
   "outputs": [],
   "source": [
    "vehicles[0].transform == ego_vehicle.get_transform()"
   ]
  },
  {
   "cell_type": "code",
   "execution_count": null,
   "metadata": {},
   "outputs": [],
   "source": [
    "vehicles = scenario._ngsim_recording.step()"
   ]
  },
  {
   "cell_type": "code",
   "execution_count": null,
   "metadata": {},
   "outputs": [],
   "source": [
    "\n",
    "scenario._ngsim_vehicles_in_carla"
   ]
  },
  {
   "cell_type": "code",
   "execution_count": null,
   "metadata": {},
   "outputs": [],
   "source": [
    "world.tick()"
   ]
  },
  {
   "cell_type": "code",
   "execution_count": null,
   "metadata": {},
   "outputs": [],
   "source": [
    "world.get_actors()[1]"
   ]
  },
  {
   "cell_type": "code",
   "execution_count": null,
   "metadata": {},
   "outputs": [],
   "source": [
    "list(world.get_actors())"
   ]
  },
  {
   "cell_type": "code",
   "execution_count": null,
   "metadata": {},
   "outputs": [],
   "source": [
    "\n",
    "\n",
    "birdview_producer = BirdViewProducer(\n",
    "    client,  # carla.Client\n",
    "    target_size=PixelDimensions(width=150, height=336),\n",
    "    pixels_per_meter=4,\n",
    "    crop_type=BirdViewCropType.FRONT_AND_REAR_AREA\n",
    ")"
   ]
  },
  {
   "cell_type": "code",
   "execution_count": 72,
   "metadata": {},
   "outputs": [
    {
     "data": {
      "text/plain": [
       "1571"
      ]
     },
     "execution_count": 72,
     "metadata": {},
     "output_type": "execute_result"
    }
   ],
   "source": [
    "world.tick()"
   ]
  },
  {
   "cell_type": "code",
   "execution_count": null,
   "metadata": {},
   "outputs": [],
   "source": [
    "def print_data(dat):\n",
    "    print(dat.latitude,dat.longitude, dat.altitude)"
   ]
  },
  {
   "cell_type": "code",
   "execution_count": null,
   "metadata": {},
   "outputs": [],
   "source": [
    "def prit_data(dat):\n",
    "    print(dat.frame)\n",
    "    points = np.frombuffer(dat.raw_data, dtype=np.dtype('f4'))\n",
    "    points = np.reshape(points, (len(dat), 4))\n",
    "    print(points)"
   ]
  },
  {
   "cell_type": "code",
   "execution_count": null,
   "metadata": {},
   "outputs": [],
   "source": [
    "def check_img(img):\n",
    "    print(img.frame)\n",
    "    array = np.frombuffer(img.raw_data, dtype=np.dtype(\"uint8\")) \n",
    "    array = np.reshape(array, (img.height, img.width, 4)) # RGBA format\n",
    "    array = array[:, :, :3] #  Take only RGB\n",
    "    \n",
    "    \n",
    "    img = Image.fromarray(array)\n",
    "    img = img.resize((299, 299), Image.ANTIALIAS)\n",
    "    input_data = np.array(img)"
   ]
  },
  {
   "cell_type": "code",
   "execution_count": 71,
   "metadata": {},
   "outputs": [],
   "source": [
    "cam_bp = world.get_blueprint_library().find('sensor.camera.rgb')\n",
    "cam_bp.set_attribute(\"image_size_x\",str(720))\n",
    "cam_bp.set_attribute(\"image_size_y\",str(720))\n",
    "cam_bp.set_attribute(\"fov\",str(100))\n",
    "cam_location = carla.Location(2,0,1)\n",
    "cam_rotation = carla.Rotation(0,0,0)\n",
    "cam_transform = carla.Transform(cam_location,cam_rotation)\n",
    "ego_cam = world.spawn_actor(cam_bp,cam_transform,attach_to=ego_vehicle, attachment_type=carla.AttachmentType.Rigid)\n",
    "rgb_front_listener = ego_cam\n",
    "rgb_front_listener.listen(lambda image: image.save_to_disk('check.jpg'))"
   ]
  },
  {
   "cell_type": "code",
   "execution_count": null,
   "metadata": {},
   "outputs": [],
   "source": [
    "ldr_bp = world.get_blueprint_library().find('sensor.camera.rgb')\n",
    "ldr_loc = carla.Location(0,0,0)\n",
    "ldr_rot = carla.Rotation(0,0,0)\n",
    "ldr_bp.set_attribute(\"range\",'500.0')\n",
    "\n",
    "\n",
    "ldr_transform = carla.Transform(ldr_loc,ldr_rot)\n",
    "ego_ldr = world.spawn_actor(ldr_bp,ldr_transform, attach_to=ego_vehicle, attachment_type=carla.AttachmentType.Rigid)\n",
    "ego_ldr.listen(lambda dat: prit_data(dat))"
   ]
  },
  {
   "cell_type": "code",
   "execution_count": null,
   "metadata": {},
   "outputs": [],
   "source": [
    "ldr_transform.location.z"
   ]
  },
  {
   "cell_type": "code",
   "execution_count": null,
   "metadata": {},
   "outputs": [],
   "source": [
    "list(world.get_actors())"
   ]
  },
  {
   "cell_type": "code",
   "execution_count": null,
   "metadata": {},
   "outputs": [],
   "source": [
    "world.tick()"
   ]
  },
  {
   "cell_type": "code",
   "execution_count": null,
   "metadata": {},
   "outputs": [],
   "source": [
    "for i in d:\n",
    "    print(d[i].id,i)"
   ]
  },
  {
   "cell_type": "code",
   "execution_count": null,
   "metadata": {},
   "outputs": [],
   "source": [
    "del ego_sadr"
   ]
  },
  {
   "cell_type": "code",
   "execution_count": null,
   "metadata": {},
   "outputs": [],
   "source": [
    "ego_sadr"
   ]
  },
  {
   "cell_type": "code",
   "execution_count": null,
   "metadata": {},
   "outputs": [],
   "source": [
    "world.tick()"
   ]
  },
  {
   "cell_type": "code",
   "execution_count": null,
   "metadata": {},
   "outputs": [],
   "source": [
    "sadr_bp = world.get_blueprint_library().find('sensor.other.gnss')\n",
    "sadr_loc = carla.Location(0,0,0)\n",
    "sadr_rot = carla.Rotation(0,0,0)\n",
    "#ldr_bp.set_attribute(\"range\",'10.0')\n",
    "\n",
    "\n",
    "sadr_transform = carla.Transform(sadr_loc,sadr_rot)\n",
    "ego_sadr = world.spawn_actor(sadr_bp,sadr_transform, attach_to=d[1036], attachment_type=carla.AttachmentType.Rigid)\n",
    "ego_sadr.listen(lambda dat: print_data(dat))"
   ]
  },
  {
   "cell_type": "code",
   "execution_count": null,
   "metadata": {},
   "outputs": [],
   "source": [
    "sdr_bp = world.get_blueprint_library().find('sensor.other.gnss')\n",
    "sdr_loc = carla.Location(0,0,0)\n",
    "sdr_rot = carla.Rotation(0,0,0)\n",
    "#ldr_bp.set_attribute(\"range\",'10.0')\n",
    "\n",
    "\n",
    "sdr_transform = carla.Transform(sdr_loc,sdr_rot)\n",
    "ego_sdr = world.spawn_actor(sdr_bp,sdr_transform, attach_to=ego_vehicle, attachment_type=carla.AttachmentType.Rigid)\n",
    "ego_sdr.listen(lambda dat: print_data(dat))"
   ]
  },
  {
   "cell_type": "code",
   "execution_count": null,
   "metadata": {},
   "outputs": [],
   "source": [
    "world.tick()"
   ]
  },
  {
   "cell_type": "code",
   "execution_count": null,
   "metadata": {},
   "outputs": [],
   "source": [
    "sensor.other.imu"
   ]
  },
  {
   "cell_type": "code",
   "execution_count": null,
   "metadata": {},
   "outputs": [],
   "source": [
    "def reload_carla():\n",
    "    global host,port,client,scenario, world,spectator,ego_vehicle,birdview_producers,p\n",
    "    p = threading.Thread(target = cmd_carla)\n",
    "    p.start()\n",
    "    print(\"Restarting carla.....\")\n",
    "    time.sleep(5)\n",
    "    \n",
    "    \n",
    "    print(\"Connecting to carla...\")\n",
    "    host = \"localhost\"\n",
    "    port = 2000\n",
    "    client = carla.Client(host,port)\n",
    "    scenario = prepare_ngsim_scenario(client)\n",
    "    world = client.get_world()\n",
    "    spectator = world.get_spectator()\n",
    "    ego_vehicle = prepare_ego_vehicle(world)\n",
    "    birdview_producer = BirdViewProducer(\n",
    "    client,  # carla.Client\n",
    "    target_size=PixelDimensions(width=150, height=336),\n",
    "    pixels_per_meter=4,\n",
    "    crop_type=BirdViewCropType.FRONT_AND_REAR_AREA\n",
    "    )\n",
    "    ldr_bp = world.get_blueprint_library().find('sensor.other.radar')\n",
    "    ldr_loc = carla.Location(0,0,0)\n",
    "    ldr_rot = carla.Rotation(0,0,0)\n",
    "    ldr_bp.set_attribute(\"range\",'10.0')\n",
    "\n",
    "\n",
    "    ldr_transform = carla.Transform(ldr_loc,ldr_rot)\n",
    "    ego_ldr = world.spawn_actor(ldr_bp,ldr_transform, attach_to=ego_vehicle, attachment_type=carla.AttachmentType.Rigid)\n",
    "    ego_ldr.listen(lambda dat: load_radar(dat))"
   ]
  },
  {
   "cell_type": "code",
   "execution_count": null,
   "metadata": {},
   "outputs": [],
   "source": [
    "class Hp():\n",
    "    \n",
    "    def __init__(self):\n",
    "        self.nb_steps = 1500\n",
    "        self.episode_length = 1000\n",
    "        self.learning_rate = 0.02\n",
    "        self.nb_directions = 16\n",
    "        self.nb_best_directions = 16\n",
    "        assert self.nb_best_directions <= self.nb_directions\n",
    "        self.noise = 0.03\n",
    "        self.seed = 10\n",
    "        #self.env_name = 'HalfCheetahBulletEnv-v0'\n",
    "\n",
    "# Normalizing the states\n"
   ]
  },
  {
   "cell_type": "code",
   "execution_count": null,
   "metadata": {},
   "outputs": [],
   "source": [
    "hp = Hp()\n",
    "np.random.seed(hp.seed)\n",
    "state_limit = 15\n",
    "\n",
    "\n",
    "input_state = [0]*state_limit*4\n",
    "nb_inputs = state_limit * 4\n",
    "nb_outputs = 2\n",
    "save_every = 25\n",
    "\n",
    "render = False"
   ]
  },
  {
   "cell_type": "code",
   "execution_count": null,
   "metadata": {},
   "outputs": [],
   "source": [
    "reward_vector = []"
   ]
  },
  {
   "cell_type": "code",
   "execution_count": null,
   "metadata": {},
   "outputs": [],
   "source": [
    "\n",
    "class Normalizer():\n",
    "    \n",
    "    def __init__(self, nb_inputs):\n",
    "        global hp\n",
    "        self.n = np.zeros(nb_inputs)\n",
    "        self.mean = np.zeros(nb_inputs)\n",
    "        self.mean_diff = np.zeros(nb_inputs)\n",
    "        self.var = np.zeros(nb_inputs)\n",
    "    \n",
    "    def observe(self, x):\n",
    "        global hp\n",
    "        self.n += 1.\n",
    "        last_mean = self.mean.copy()\n",
    "        \n",
    "        self.mean += (x - self.mean) / self.n\n",
    "        \n",
    "        self.mean_diff += (x - last_mean) * (x - self.mean)\n",
    "        self.var = (self.mean_diff / self.n).clip(min = 1e-2)\n",
    "    \n",
    "    def normalize(self, inputs):\n",
    "        global hp\n",
    "        obs_mean = self.mean\n",
    "        obs_std = np.sqrt(self.var)\n",
    "        if np.sum(obs_std) == 0:\n",
    "            print(\"TILTED\")\n",
    "        return (inputs - obs_mean) / obs_std\n",
    "\n",
    "# Building the AI\n",
    "\n",
    "class Policy():\n",
    "    \n",
    "    def __init__(self, input_size, output_size):\n",
    "        \n",
    "        self.theta = np.zeros((output_size, input_size))\n",
    "    \n",
    "    def evaluate(self, input, delta = None, direction = None):\n",
    "        global hp\n",
    "        if direction is None:\n",
    "            return self.theta.dot(input)\n",
    "        elif direction == \"positive\":\n",
    "            return (self.theta + hp.noise*delta).dot(input)\n",
    "        else:\n",
    "            return (self.theta - hp.noise*delta).dot(input)\n",
    "    \n",
    "    def sample_deltas(self):\n",
    "        global hp\n",
    "        return [np.random.randn(*self.theta.shape) for _ in range(hp.nb_directions)]\n",
    "    \n",
    "    def update(self, rollouts, sigma_r):\n",
    "        global hp\n",
    "        step = np.zeros(self.theta.shape)\n",
    "        for r_pos, r_neg, d in rollouts:\n",
    "            step += (r_pos - r_neg) * d\n",
    "        if np.sum(step) == 0:\n",
    "            print(\"STEPS ZERO\")\n",
    "            for r_pos, r_neg, d in rollouts:\n",
    "                step = np.ones(self.theta.shape) * 0.05 * d\n",
    "            \n",
    "        if sigma_r == 0:\n",
    "            print(\"NO ZERO\")\n",
    "            sigma_r = 0.01\n",
    "        self.theta += hp.learning_rate / (hp.nb_best_directions * sigma_r) * step\n",
    "        \n",
    "    def save_policy(self,step_num):\n",
    "        np.savetxt(\"Policy_\" + str(step_num) +\".gz\", self.theta)\n",
    "    \n",
    "    def load_policy(self,step_num):\n",
    "        self.theta = np.loadtxt(\"Policy_\" + str(step_num) +\".gz\")\n",
    "\n",
    "# Exploring the policy on one specific direction and over one episode\n",
    "\n",
    "def explore(env, normalizer, policy, direction = None, delta = None):\n",
    "    global ego_vehicle,input_state,render,hp\n",
    "    env.reset(ego_vehicle)\n",
    "    world.tick()\n",
    "    state = input_state\n",
    "    done = False\n",
    "    num_plays = 0.\n",
    "    sum_rewards = 0\n",
    "    while not done:\n",
    "        normalizer.observe(state)\n",
    "        state = normalizer.normalize(state)\n",
    "        action = policy.evaluate(state, delta, direction)\n",
    "        action[0] = np.clip(action[0],0.0,1.0) # Throttle\n",
    "        action[1] = np.clip(action[1],-1.0,1.0) # Steering\n",
    "        #action[2] = np.clip(action[2],0.0,1.0) #Brake\n",
    "        \n",
    "        if render:\n",
    "            birdview = birdview_producer.produce(\n",
    "            agent_vehicle=ego_vehicle  # carla.Actor (spawned vehicle)\n",
    "            )\n",
    "            rgb = BirdViewProducer.as_rgb(birdview)\n",
    "            cv2.imshow('Frame',rgb)\n",
    "            if cv2.waitKey(25) & 0xFF == ord('q'):\n",
    "\n",
    "                  break\n",
    "        \n",
    "        ego_vehicle.apply_control(carla.VehicleControl(throttle=action[0], steer=action[1]))\n",
    "        cmd, reward, done, _ = env.step(ego_vehicle)\n",
    "        #reward = np.clip(reward,0,1)\n",
    "        #reward = max(reward, -1)\n",
    "        #reward = max(min(reward, 1), -1)\n",
    "        world.tick()\n",
    "        sum_rewards += reward\n",
    "        num_plays += 1\n",
    "    cv2.destroyAllWindows()\n",
    "    return sum_rewards\n",
    "\n",
    "\n",
    "def train(env, policy, normalizer, hp, resume=None, resume_step = 0):\n",
    "    global render,save_every,reward_vector,scenario\n",
    "    max_reward =  -1\n",
    "    if resume == True:\n",
    "        policy.load_policy(resume_step)\n",
    "        \n",
    "    for step in range(resume_step, hp.nb_steps):\n",
    "        try:\n",
    "            if step > 1000:\n",
    "                render = True\n",
    "            # Initializing the perturbations deltas and the positive/negative rewards\n",
    "            deltas = policy.sample_deltas()\n",
    "            positive_rewards = [0] * hp.nb_directions\n",
    "            negative_rewards = [0] * hp.nb_directions\n",
    "\n",
    "            # Getting the positive rewards in the positive directions\n",
    "            for k in range(hp.nb_directions):\n",
    "                positive_rewards[k] = explore(env, normalizer, policy, direction = \"positive\", delta = deltas[k])\n",
    "\n",
    "            # Getting the negative rewards in the negative/opposite directions\n",
    "            for k in range(hp.nb_directions):\n",
    "                negative_rewards[k] = explore(env, normalizer, policy, direction = \"negative\", delta = deltas[k])\n",
    "\n",
    "            # Gathering all the positive/negative rewards to compute the standard deviation of these rewards\n",
    "            all_rewards = np.array(positive_rewards + negative_rewards)\n",
    "            sigma_r = all_rewards.std()\n",
    "\n",
    "            # Sorting the rollouts by the max(r_pos, r_neg) and selecting the best directions\n",
    "            scores = {k:max(r_pos, r_neg) for k,(r_pos,r_neg) in enumerate(zip(positive_rewards, negative_rewards))}\n",
    "            order = sorted(scores.keys(), key = lambda x:scores[x], reverse = True)[:hp.nb_best_directions]\n",
    "            rollouts = [(positive_rewards[k], negative_rewards[k], deltas[k]) for k in order]\n",
    "\n",
    "            # Updating our policy\n",
    "            policy.update(rollouts, sigma_r)\n",
    "\n",
    "            if step%save_every == 0:\n",
    "                policy.save_policy(step)\n",
    "            \n",
    "\n",
    "            # Printing the final reward of the policy after the update\n",
    "            reward_evaluation = explore(env, normalizer, policy)\n",
    "            \n",
    "            if reward_evaluation > max_reward:\n",
    "                policy.save_policy(step)\n",
    "                print(\"Max reward:\",reward_evaluation)\n",
    "                max_reward = reward_evaluation\n",
    "            print('Step:', step, 'Reward:', reward_evaluation)\n",
    "            reward_vector.append(reward_evaluation)\n",
    "        except Exception as e:\n",
    "            print(e)\n",
    "            reload_carla()\n",
    "            time.sleep(5)\n",
    "            reward_vector.append(reward_vector[-1])\n",
    "            env = scenario\n",
    "            print(\"Carla Reloaded and connected, continue training!\")\n",
    "            continue"
   ]
  },
  {
   "cell_type": "code",
   "execution_count": null,
   "metadata": {},
   "outputs": [],
   "source": []
  },
  {
   "cell_type": "code",
   "execution_count": null,
   "metadata": {},
   "outputs": [],
   "source": [
    "def load_radar(dat):\n",
    "    global input_state,state_limit\n",
    "    points = np.frombuffer(dat.raw_data, dtype=np.dtype('f4'))\n",
    "    points = np.reshape(points, (len(dat), 4))\n",
    "    radar_Data = points[np.argsort(points[:, -1])]\n",
    "        \n",
    "    state = radar_Data[:state_limit].flatten()\n",
    "    state.resize(state_limit*4,refcheck = False)\n",
    "    input_state =  state"
   ]
  },
  {
   "cell_type": "code",
   "execution_count": null,
   "metadata": {},
   "outputs": [],
   "source": [
    "ldr_bp = world.get_blueprint_library().find('sensor.other.radar')\n",
    "ldr_loc = carla.Location(0,0,0)\n",
    "ldr_rot = carla.Rotation(0,0,0)\n",
    "ldr_bp.set_attribute(\"range\",'10.0')\n",
    "\n",
    "\n",
    "ldr_transform = carla.Transform(ldr_loc,ldr_rot)\n",
    "ego_ldr = world.spawn_actor(ldr_bp,ldr_transform, attach_to=ego_vehicle, attachment_type=carla.AttachmentType.Rigid)\n",
    "ego_ldr.listen(lambda dat: load_radar(dat))"
   ]
  },
  {
   "cell_type": "code",
   "execution_count": null,
   "metadata": {},
   "outputs": [],
   "source": [
    "policy = Policy(nb_inputs, nb_outputs)\n",
    "normalizer = Normalizer(nb_inputs)\n"
   ]
  },
  {
   "cell_type": "code",
   "execution_count": null,
   "metadata": {},
   "outputs": [],
   "source": [
    "train(scenario, policy, normalizer, hp)"
   ]
  },
  {
   "cell_type": "code",
   "execution_count": null,
   "metadata": {},
   "outputs": [],
   "source": [
    "sorted_array"
   ]
  },
  {
   "cell_type": "code",
   "execution_count": null,
   "metadata": {},
   "outputs": [],
   "source": [
    "sorted_array.flatten().shape"
   ]
  },
  {
   "cell_type": "code",
   "execution_count": null,
   "metadata": {},
   "outputs": [],
   "source": [
    "a = np.random.rand(10,4).flatten()"
   ]
  },
  {
   "cell_type": "code",
   "execution_count": null,
   "metadata": {},
   "outputs": [],
   "source": [
    "a.resize(50,refcheck=False)"
   ]
  },
  {
   "cell_type": "code",
   "execution_count": null,
   "metadata": {},
   "outputs": [],
   "source": [
    "a.shape"
   ]
  },
  {
   "cell_type": "code",
   "execution_count": null,
   "metadata": {},
   "outputs": [],
   "source": []
  }
 ],
 "metadata": {
  "kernelspec": {
   "display_name": "Python 3",
   "language": "python",
   "name": "python3"
  },
  "language_info": {
   "codemirror_mode": {
    "name": "ipython",
    "version": 3
   },
   "file_extension": ".py",
   "mimetype": "text/x-python",
   "name": "python",
   "nbconvert_exporter": "python",
   "pygments_lexer": "ipython3",
   "version": "3.7.6"
  }
 },
 "nbformat": 4,
 "nbformat_minor": 4
}
